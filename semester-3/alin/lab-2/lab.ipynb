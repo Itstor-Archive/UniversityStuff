{
 "cells": [
  {
   "cell_type": "markdown",
   "metadata": {},
   "source": [
    "# Matrix"
   ]
  },
  {
   "cell_type": "code",
   "execution_count": 1,
   "metadata": {},
   "outputs": [],
   "source": [
    "import numpy as np"
   ]
  },
  {
   "cell_type": "markdown",
   "metadata": {},
   "source": [
    "Pada Bab ini dibutuhkan library numpy untuk melakukan operasi matrix. maka dari itu dilakukan import library terlebih dahulu."
   ]
  },
  {
   "cell_type": "markdown",
   "metadata": {},
   "source": [
    "## Matrices"
   ]
  },
  {
   "cell_type": "markdown",
   "metadata": {},
   "source": [
    "### Creating matrices from the entries\n",
    "Dalam membuat suatu matrix dalam bahasa python dapat digunakan numpy 2 dimensi atau list dalam list (list of list). Berikut contoh dari pepmbuatan matrix menggunakan library python."
   ]
  },
  {
   "cell_type": "code",
   "execution_count": 2,
   "metadata": {},
   "outputs": [
    {
     "data": {
      "text/plain": [
       "(3, 4)"
      ]
     },
     "execution_count": 2,
     "metadata": {},
     "output_type": "execute_result"
    }
   ],
   "source": [
    "A = np.array([[0,1,-2.3,0.1], [1.3, 4, -0.1, 0], [4.1, -1.0, 0,1.7]])\n",
    "A.shape"
   ]
  },
  {
   "cell_type": "markdown",
   "metadata": {},
   "source": [
    "Kita dapat menggunakan method shape untuk mengetahui ukuran matriks A. method ini akan mereturn tuple dengan elemen yang pertama adalah jumlah baris, dan elemen kedua adalah jumlah kolom. Dengan memanfaatkan method ini, kita dapat mengetahui apakah suatu matriks adalah matriks tall atau bukan, seperti pada kode di bawah ini"
   ]
  },
  {
   "cell_type": "code",
   "execution_count": 3,
   "metadata": {},
   "outputs": [
    {
     "data": {
      "text/plain": [
       "False"
      ]
     },
     "execution_count": 3,
     "metadata": {},
     "output_type": "execute_result"
    }
   ],
   "source": [
    "tall = lambda X: A.shape[0] > A.shape[1]\n",
    "tall(A)"
   ]
  },
  {
   "cell_type": "markdown",
   "metadata": {},
   "source": [
    "Pada awal disebutkan bahwa selain menggunakan numpy pembuatan matriks bisa dengan menggunakan list of list. Di bawah ini merupakan contoh dari pembuatan matriks dengan list of list."
   ]
  },
  {
   "cell_type": "code",
   "execution_count": 4,
   "metadata": {},
   "outputs": [
    {
     "name": "stdout",
     "output_type": "stream",
     "text": [
      "m: 3\n",
      "n: 4\n"
     ]
    }
   ],
   "source": [
    "A = [[0,1,-2.3,0.1], [1.3, 4, -0.1, 0], [4.1, -1.0, 0, 1.7]]\n",
    "print('m:', len(A))\n",
    "print('n:', len(A[0]))"
   ]
  },
  {
   "cell_type": "markdown",
   "metadata": {},
   "source": [
    "Ketika menggunakan list of list dalam membuat matriks, untuk mengakses ukurannya digunakan len(). Ketika ingin mengetahui kolom matriks, gunakan len(A[0]). Sedangkan untuk mengetahui baris matriks, gunakan len(A)."
   ]
  },
  {
   "cell_type": "markdown",
   "metadata": {},
   "source": [
    "### Mengakses Matriks"
   ]
  },
  {
   "cell_type": "code",
   "execution_count": 5,
   "metadata": {},
   "outputs": [
    {
     "data": {
      "text/plain": [
       "-2.3"
      ]
     },
     "execution_count": 5,
     "metadata": {},
     "output_type": "execute_result"
    }
   ],
   "source": [
    "A[0][2]"
   ]
  },
  {
   "cell_type": "markdown",
   "metadata": {},
   "source": [
    "Untuk mengakses suatu elemen dalam matriks, kita bisa memasukkan indeks baris dan kolom dalam kurung siku seperti contoh di atas. 0 menunjukkan baris, 2 menunjukkan kolom"
   ]
  },
  {
   "cell_type": "code",
   "execution_count": 6,
   "metadata": {},
   "outputs": [
    {
     "data": {
      "text/plain": [
       "[[0, 1, 7.5, 0.1], [1.3, 4, -0.1, 0], [4.1, -1.0, 0, 1.7]]"
      ]
     },
     "execution_count": 6,
     "metadata": {},
     "output_type": "execute_result"
    }
   ],
   "source": [
    "A[0][2] = 7.5\n",
    "A"
   ]
  },
  {
   "cell_type": "markdown",
   "metadata": {},
   "source": [
    "Selain itu kita juga dapat mengubah elemen dalam matriks dengan menggunakan operator =."
   ]
  },
  {
   "cell_type": "markdown",
   "metadata": {},
   "source": [
    "### Equality of matrices"
   ]
  },
  {
   "cell_type": "code",
   "execution_count": 7,
   "metadata": {},
   "outputs": [
    {
     "data": {
      "text/plain": [
       "array([[ True,  True,  True,  True],\n",
       "       [ True,  True,  True,  True],\n",
       "       [ True,  True,  True,  True]])"
      ]
     },
     "execution_count": 7,
     "metadata": {},
     "output_type": "execute_result"
    }
   ],
   "source": [
    "A = np.array([[0,1,-2.3,0.1], [1.3, 4, -0.1, 0], [4.1, -1.0, 0, 1.7]])\n",
    "B = A.copy()\n",
    "A == B"
   ]
  },
  {
   "cell_type": "markdown",
   "metadata": {},
   "source": [
    "Dua buah matriks dapat dibandingkan dengan menggunakan operator ==. Pembandingan ini dilakukan pada tiap elemennya."
   ]
  },
  {
   "cell_type": "code",
   "execution_count": 8,
   "metadata": {},
   "outputs": [
    {
     "data": {
      "text/plain": [
       "False"
      ]
     },
     "execution_count": 8,
     "metadata": {},
     "output_type": "execute_result"
    }
   ],
   "source": [
    "A = [[0,1,-2.3,0.1],[1.3, 4, -0.1, 0],[4.1, -1.0, 0, 1.7]]\n",
    "B = [[0,1,-2.3,100],[1.3, 4, -0.1, 0],[4.1, -1.0, 0, 1.7]]\n",
    "A == B"
   ]
  },
  {
   "cell_type": "markdown",
   "metadata": {},
   "source": [
    "Matriks yang dibuat dengan menggunakan list jiak dibandingkan maka perbandingannya secara keseluruhan. Seeperti pada contoh di atas, jika salah satu elemn salah maka perbandingannya akan false."
   ]
  },
  {
   "cell_type": "markdown",
   "metadata": {},
   "source": [
    "### Slicing and submatrices"
   ]
  },
  {
   "cell_type": "code",
   "execution_count": 112,
   "metadata": {},
   "outputs": [
    {
     "data": {
      "text/plain": [
       "array([[1, 0],\n",
       "       [0, 1]])"
      ]
     },
     "execution_count": 112,
     "metadata": {},
     "output_type": "execute_result"
    }
   ],
   "source": [
    "A = np.array([[-1, 0, 1, 0],[2, -3, 0, 1],[0, 4, -2, 1]])\n",
    "A[0:2, 2:4]"
   ]
  },
  {
   "cell_type": "markdown",
   "metadata": {},
   "source": [
    "Seperti pada contoh di atas, pada matriks juga dapat dilakukan slicing dengan menggunakan cara yang sama seperti slicing pada list yaitu dengan menginputkan  index awal dan akhir. Berikut merupakan contoh lain dari slicing pada matriks:"
   ]
  },
  {
   "cell_type": "code",
   "execution_count": 10,
   "metadata": {},
   "outputs": [
    {
     "name": "stdout",
     "output_type": "stream",
     "text": [
      "Third column of A\n",
      "[ 0  4 -2  1]\n",
      "Second row of A, returned as vector\n",
      "[ 2 -3  0  1]\n"
     ]
    }
   ],
   "source": [
    "print(\"Third column of A\")\n",
    "print(A[:][2])\n",
    "print(\"Second row of A, returned as vector\")\n",
    "print(A[1][:])"
   ]
  },
  {
   "cell_type": "code",
   "execution_count": 113,
   "metadata": {},
   "outputs": [
    {
     "data": {
      "text/plain": [
       "array([[-1,  0],\n",
       "       [ 1,  0],\n",
       "       [ 2, -3],\n",
       "       [ 0,  1],\n",
       "       [ 0,  4],\n",
       "       [-2,  1]])"
      ]
     },
     "execution_count": 113,
     "metadata": {},
     "output_type": "execute_result"
    }
   ],
   "source": [
    "A.reshape((6,2))"
   ]
  },
  {
   "cell_type": "markdown",
   "metadata": {},
   "source": [
    "Seperti contoh di atas suatu matriks dapat diubah bentuknya yang awalnya berbentuk 3x4 menjadi 6x2 yaitu dengan menggunakan reshape(). Syarat dari reshape() adalah matriks yang akan diubah harus memiliki jumlah baris dan kolom yang sama. Jika tidak maka akan terjadi error seperti pada contoh di bawah ini."
   ]
  },
  {
   "cell_type": "code",
   "execution_count": 114,
   "metadata": {},
   "outputs": [
    {
     "ename": "ValueError",
     "evalue": "cannot reshape array of size 12 into shape (3,2)",
     "output_type": "error",
     "traceback": [
      "\u001b[1;31m---------------------------------------------------------------------------\u001b[0m",
      "\u001b[1;31mValueError\u001b[0m                                Traceback (most recent call last)",
      "\u001b[1;32m<ipython-input-114-dcf4d896d08c>\u001b[0m in \u001b[0;36m<module>\u001b[1;34m\u001b[0m\n\u001b[1;32m----> 1\u001b[1;33m \u001b[0mA\u001b[0m\u001b[1;33m.\u001b[0m\u001b[0mreshape\u001b[0m\u001b[1;33m(\u001b[0m\u001b[1;33m(\u001b[0m\u001b[1;36m3\u001b[0m\u001b[1;33m,\u001b[0m\u001b[1;36m2\u001b[0m\u001b[1;33m)\u001b[0m\u001b[1;33m)\u001b[0m\u001b[1;33m\u001b[0m\u001b[1;33m\u001b[0m\u001b[0m\n\u001b[0m",
      "\u001b[1;31mValueError\u001b[0m: cannot reshape array of size 12 into shape (3,2)"
     ]
    }
   ],
   "source": [
    "A.reshape((3,2))"
   ]
  },
  {
   "cell_type": "markdown",
   "metadata": {},
   "source": [
    "### Block Matrices"
   ]
  },
  {
   "cell_type": "code",
   "execution_count": 13,
   "metadata": {},
   "outputs": [
    {
     "data": {
      "text/plain": [
       "array([[ 0,  2,  3, -1],\n",
       "       [ 2,  2,  1,  4],\n",
       "       [ 1,  3,  5,  4]])"
      ]
     },
     "execution_count": 13,
     "metadata": {},
     "output_type": "execute_result"
    }
   ],
   "source": [
    "B = np.array([0,2,3]) #1 by 3 matrix\n",
    "C = np.array([-1]) #1 by 1 matrix\n",
    "D = np.array([[2,2,1],[1,3,5]]) #2 by 3 matrix\n",
    "E = np.array([[4],[4]]) #2 by 1 matrix\n",
    "# Constrcut 3 by 4 block matrix\n",
    "A = np.block([[B,C],[D,E]])\n",
    "A"
   ]
  },
  {
   "cell_type": "markdown",
   "metadata": {},
   "source": [
    "Dengan menggunakan method block() yang terdapat pada array numpy kita dapat menggabungkan dua atau lebih matriks menjadi satu."
   ]
  },
  {
   "cell_type": "markdown",
   "metadata": {},
   "source": [
    "### Column and row interpretation of a matrix"
   ]
  },
  {
   "cell_type": "code",
   "execution_count": 14,
   "metadata": {},
   "outputs": [
    {
     "name": "stdout",
     "output_type": "stream",
     "text": [
      "matrix A : [[1 2]\n",
      " [4 5]\n",
      " [7 8]]\n",
      "dimensions of A : (3, 2)\n",
      "matrix B : [1 2 4 5 7 8]\n",
      "dimensions of B : (6,)\n"
     ]
    }
   ],
   "source": [
    "a = [1,2]\n",
    "b = [4,5]\n",
    "c = [7,8]\n",
    "A = np.vstack([a,b,c])\n",
    "B = np.hstack([a,b,c])\n",
    "print('matrix A :',A)\n",
    "print('dimensions of A :', A.shape)\n",
    "print('matrix B :',B)\n",
    "print('dimensions of B :', B.shape)\n"
   ]
  },
  {
   "cell_type": "markdown",
   "metadata": {},
   "source": [
    "vstack() merupakan method dalam array numpy yang dapat digunakan mengubah baris vektor menjadi matriks. Sedangkan hstack() dapat digunakan untuk mengubah kolom vektor menjadi matriks."
   ]
  },
  {
   "cell_type": "markdown",
   "metadata": {},
   "source": [
    "Dengan menggunakan method c_ atau r_ kita dapat menggabungkan kolom atau baris suatu vektor dengan vektor lain. Berikut contoh dari pengunaan method c_ dan r_:"
   ]
  },
  {
   "cell_type": "code",
   "execution_count": 15,
   "metadata": {},
   "outputs": [
    {
     "data": {
      "text/plain": [
       "array([[-1., -0., -0.,  0.],\n",
       "       [-0., -1., -0.,  0.],\n",
       "       [-0., -0., -1.,  0.]])"
      ]
     },
     "execution_count": 15,
     "metadata": {},
     "output_type": "execute_result"
    }
   ],
   "source": [
    "np.c_[-np.identity(3), np.zeros(3)]"
   ]
  },
  {
   "cell_type": "code",
   "execution_count": 16,
   "metadata": {},
   "outputs": [
    {
     "data": {
      "text/plain": [
       "array([[1., 0., 0.],\n",
       "       [0., 1., 0.],\n",
       "       [0., 0., 1.],\n",
       "       [0., 0., 0.]])"
      ]
     },
     "execution_count": 16,
     "metadata": {},
     "output_type": "execute_result"
    }
   ],
   "source": [
    "np.r_[np.identity(3), np.zeros((1,3))]"
   ]
  },
  {
   "cell_type": "markdown",
   "metadata": {},
   "source": [
    "## Zero, identity and ones matrices"
   ]
  },
  {
   "cell_type": "code",
   "execution_count": 17,
   "metadata": {},
   "outputs": [
    {
     "name": "stdout",
     "output_type": "stream",
     "text": [
      "[[0. 0.]\n",
      " [0. 0.]]\n",
      "[[1. 1.]\n",
      " [1. 1.]]\n",
      "[[1. 0. 0.]\n",
      " [0. 1. 0.]\n",
      " [0. 0. 1.]]\n"
     ]
    }
   ],
   "source": [
    "print(np.zeros((2,2)))\n",
    "print(np.ones((2,2)))\n",
    "print(np.identity(3))"
   ]
  },
  {
   "cell_type": "markdown",
   "metadata": {},
   "source": [
    "Untuk membuat matriks kosong dapat digunakan method zero() dengan parameter tupple yang berisi ukuran matriks.\n",
    "Untuk membuat matriks identitas dapat digunakan method identity() dengan parameter tupple yang berisi ukuran matriks. Sedangkan, untuk membuat matriks yang berisikan nilai 1 bisa dengan menggunakan method ones().\n",
    "\n"
   ]
  },
  {
   "cell_type": "markdown",
   "metadata": {},
   "source": [
    "### Diagonal Matrices"
   ]
  },
  {
   "cell_type": "code",
   "execution_count": 18,
   "metadata": {},
   "outputs": [
    {
     "name": "stdout",
     "output_type": "stream",
     "text": [
      "[0 4 8]\n"
     ]
    }
   ],
   "source": [
    "x = np.array([[0, 1, 2],\n",
    "[3, 4, 5],\n",
    "[6, 7, 8]])\n",
    "print(np.diag(x))"
   ]
  },
  {
   "cell_type": "markdown",
   "metadata": {},
   "source": [
    "Untuk menentukan diagonal dari suatu matriks dapat digunakan method diag()."
   ]
  },
  {
   "cell_type": "markdown",
   "metadata": {},
   "source": [
    "### Random matrices"
   ]
  },
  {
   "cell_type": "code",
   "execution_count": 19,
   "metadata": {},
   "outputs": [
    {
     "name": "stdout",
     "output_type": "stream",
     "text": [
      "[[0.28807857 0.45609224 0.00105714]\n",
      " [0.54957934 0.64957145 0.14567448]]\n",
      "[[-1.57353774 -0.44728588]\n",
      " [ 0.36703866  0.27057391]\n",
      " [ 0.27115652  0.39204733]]\n"
     ]
    }
   ],
   "source": [
    "print(np.random.random((2,3)))\n",
    "print(np.random.randn(3,2))"
   ]
  },
  {
   "cell_type": "markdown",
   "metadata": {},
   "source": [
    "Di atas merupakan contoh untuk membuat matriks secara random. untuk membuat matriks yang terdistribusi seragam bisa menggunakan np.random.random(). Sedangkan, untuk membuat matriks yang terdistribusi secara normal bisa menggunakan np.random.randn()."
   ]
  },
  {
   "cell_type": "markdown",
   "metadata": {},
   "source": [
    "### Sparse matrices"
   ]
  },
  {
   "cell_type": "code",
   "execution_count": 20,
   "metadata": {},
   "outputs": [
    {
     "data": {
      "text/plain": [
       "<4x5 sparse matrix of type '<class 'numpy.float64'>'\n",
       "\twith 6 stored elements in COOrdinate format>"
      ]
     },
     "execution_count": 20,
     "metadata": {},
     "output_type": "execute_result"
    }
   ],
   "source": [
    "from scipy import sparse\n",
    "I = np.array([ 0, 1, 1, 0, 2, 3 ]) # row indexes of nonzeros\n",
    "J = np.array([ 0, 0, 1, 2, 2, 3 ]) # column indexes\n",
    "V = np.array([ -1.11, 0.15, -0.10, 1.17, -0.30, 0.13 ]) # values\n",
    "A = sparse.coo_matrix((V,(I,J)), shape=(4,5))\n",
    "A"
   ]
  },
  {
   "cell_type": "markdown",
   "metadata": {},
   "source": [
    "untuk membuat matriks sparse dapat digunakan method coo_matrix() yang terdapat pada library scipy. Sebelum menggunakannya dilalukan pengimportan library terlebih dahulu. Seperti contoh di atas, kita dapat membuat matriks sparse dengan menggunakan method coo_matrix()."
   ]
  },
  {
   "cell_type": "code",
   "execution_count": 21,
   "metadata": {},
   "outputs": [
    {
     "data": {
      "text/plain": [
       "6"
      ]
     },
     "execution_count": 21,
     "metadata": {},
     "output_type": "execute_result"
    }
   ],
   "source": [
    "A.nnz"
   ]
  },
  {
   "cell_type": "markdown",
   "metadata": {},
   "source": [
    "Untuk mengubah matriks sparse menjadi matriks normal dapat menggunakan method todense()."
   ]
  },
  {
   "cell_type": "code",
   "execution_count": 22,
   "metadata": {},
   "outputs": [
    {
     "data": {
      "text/plain": [
       "matrix([[-1.11,  0.  ,  1.17,  0.  ,  0.  ],\n",
       "        [ 0.15, -0.1 ,  0.  ,  0.  ,  0.  ],\n",
       "        [ 0.  ,  0.  , -0.3 ,  0.  ,  0.  ],\n",
       "        [ 0.  ,  0.  ,  0.  ,  0.13,  0.  ]])"
      ]
     },
     "execution_count": 22,
     "metadata": {},
     "output_type": "execute_result"
    }
   ],
   "source": [
    "A.todense()"
   ]
  },
  {
   "cell_type": "markdown",
   "metadata": {},
   "source": [
    "Untuk membuat matriks sparse identitas dapat menggunakan method eye(). Seperti contoh di bawah ini."
   ]
  },
  {
   "cell_type": "code",
   "execution_count": 23,
   "metadata": {},
   "outputs": [
    {
     "data": {
      "text/plain": [
       "matrix([[1., 0., 1., 0.],\n",
       "        [1., 2., 0., 2.],\n",
       "        [0., 2., 3., 0.],\n",
       "        [0., 0., 3., 4.]])"
      ]
     },
     "execution_count": 23,
     "metadata": {},
     "output_type": "execute_result"
    }
   ],
   "source": [
    "diagonals = [[1, 2, 3, 4], [1, 2, 3], [1, 2]]\n",
    "B = sparse.diags(diagonals, offsets=[0,-1,2])\n",
    "B.todense()"
   ]
  },
  {
   "cell_type": "markdown",
   "metadata": {},
   "source": [
    "method rand() dapat digunakan untuk membuat matriks sparse secara random, dengan parameter ukuran dan density."
   ]
  },
  {
   "cell_type": "code",
   "execution_count": 24,
   "metadata": {},
   "outputs": [
    {
     "data": {
      "text/plain": [
       "<3x4 sparse matrix of type '<class 'numpy.float64'>'\n",
       "\twith 3 stored elements in Compressed Sparse Row format>"
      ]
     },
     "execution_count": 24,
     "metadata": {},
     "output_type": "execute_result"
    }
   ],
   "source": [
    "matrix = sparse.rand(3, 4, density=0.25, format='csr', random_state=42)\n",
    "matrix"
   ]
  },
  {
   "cell_type": "markdown",
   "metadata": {},
   "source": [
    "## Transpose, addition, and norm"
   ]
  },
  {
   "cell_type": "markdown",
   "metadata": {},
   "source": [
    "### Transpose"
   ]
  },
  {
   "cell_type": "code",
   "execution_count": 25,
   "metadata": {},
   "outputs": [
    {
     "data": {
      "text/plain": [
       "array([[ 0,  2],\n",
       "       [ 1, -1],\n",
       "       [-2,  3],\n",
       "       [ 1,  0]])"
      ]
     },
     "execution_count": 25,
     "metadata": {},
     "output_type": "execute_result"
    }
   ],
   "source": [
    "H = np.array([[0,1,-2,1], [2,-1,3,0]])\n",
    "H.T"
   ]
  },
  {
   "cell_type": "markdown",
   "metadata": {},
   "source": [
    "Untuk melakukan transpose pada suatu matriks cukup dengan memanggil method T pada matriks tersebut."
   ]
  },
  {
   "cell_type": "markdown",
   "metadata": {},
   "source": [
    "### Addition, subtraction, and scalar multiplication."
   ]
  },
  {
   "cell_type": "code",
   "execution_count": 26,
   "metadata": {},
   "outputs": [
    {
     "data": {
      "text/plain": [
       "array([[1, 6],\n",
       "       [9, 3],\n",
       "       [3, 5]])"
      ]
     },
     "execution_count": 26,
     "metadata": {},
     "output_type": "execute_result"
    }
   ],
   "source": [
    "U = np.array([[0,4], [7,0], [3,1]])\n",
    "V = np.array([[1,2], [2,3], [0,4]])\n",
    "U + V"
   ]
  },
  {
   "cell_type": "code",
   "execution_count": 27,
   "metadata": {},
   "outputs": [
    {
     "data": {
      "text/plain": [
       "array([[ 0. ,  8.8],\n",
       "       [15.4,  0. ],\n",
       "       [ 6.6,  2.2]])"
      ]
     },
     "execution_count": 27,
     "metadata": {},
     "output_type": "execute_result"
    }
   ],
   "source": [
    "2.2*U"
   ]
  },
  {
   "cell_type": "markdown",
   "metadata": {},
   "source": [
    "Pada matriks juga dapat dilakukan operasi tambah, kurang, atau kali dengan suatu skalar."
   ]
  },
  {
   "cell_type": "markdown",
   "metadata": {},
   "source": [
    "### Matrix norm"
   ]
  },
  {
   "cell_type": "code",
   "execution_count": 28,
   "metadata": {},
   "outputs": [
    {
     "data": {
      "text/plain": [
       "5.5677643628300215"
      ]
     },
     "execution_count": 28,
     "metadata": {},
     "output_type": "execute_result"
    }
   ],
   "source": [
    "A = np.array([[2,3,-1], [0,-1,4]])\n",
    "np.linalg.norm(A)"
   ]
  },
  {
   "cell_type": "markdown",
   "metadata": {},
   "source": [
    "Kode di atas menghasilkan norm dari matriks A"
   ]
  },
  {
   "cell_type": "markdown",
   "metadata": {},
   "source": [
    "### Triangle inequality."
   ]
  },
  {
   "cell_type": "code",
   "execution_count": 29,
   "metadata": {},
   "outputs": [
    {
     "name": "stdout",
     "output_type": "stream",
     "text": [
      "4.69041575982343\n",
      "7.795831523312719\n"
     ]
    }
   ],
   "source": [
    "A = np.array([[-1,0], [2,2]])\n",
    "B = np.array([[3,1], [-3,2]])\n",
    "print(np.linalg.norm(A + B))\n",
    "print(np.linalg.norm(A) + np.linalg.norm(B))"
   ]
  },
  {
   "cell_type": "markdown",
   "metadata": {},
   "source": [
    "Kode di atas merupakan contoh dari pengecekan triagle inequality pada dua buah matriks"
   ]
  },
  {
   "cell_type": "markdown",
   "metadata": {},
   "source": [
    "## Matrix-vector multiplication"
   ]
  },
  {
   "cell_type": "code",
   "execution_count": 30,
   "metadata": {},
   "outputs": [
    {
     "data": {
      "text/plain": [
       "array([ 3, -4])"
      ]
     },
     "execution_count": 30,
     "metadata": {},
     "output_type": "execute_result"
    }
   ],
   "source": [
    "A = np.array([[0,2,-1],[-2,1,1]])\n",
    "x = np.array([2,1,-1])\n",
    "A @ x"
   ]
  },
  {
   "cell_type": "markdown",
   "metadata": {},
   "source": [
    "Dalam bahasa python, untuk mengalikan dua buah matriks bisa dengan menggunakan @ atau bisa juga dengan menggunakan method matmul()."
   ]
  },
  {
   "cell_type": "markdown",
   "metadata": {},
   "source": [
    "### Difference matrix"
   ]
  },
  {
   "cell_type": "code",
   "execution_count": 31,
   "metadata": {},
   "outputs": [
    {
     "data": {
      "text/plain": [
       "array([ 1.,  2., -1.])"
      ]
     },
     "execution_count": 31,
     "metadata": {},
     "output_type": "execute_result"
    }
   ],
   "source": [
    "diff_mat = lambda n: np.c_[-np.identity(n-1), np.zeros(n-1)] + np.c_[np.zeros(n-1), np.identity(n-1)]\n",
    "D = diff_mat(4)\n",
    "x = np.array([-1,0,2,1])\n",
    "D @ x"
   ]
  },
  {
   "cell_type": "markdown",
   "metadata": {},
   "source": [
    "Untuk membuat suatu matrix (n-1) x n bisa dengan menggunakan beberapa cara. Salah satunya dengan menggunakan cara dibawah ini."
   ]
  },
  {
   "cell_type": "code",
   "execution_count": 32,
   "metadata": {},
   "outputs": [
    {
     "data": {
      "text/plain": [
       "array([ 1.,  2., -1.])"
      ]
     },
     "execution_count": 32,
     "metadata": {},
     "output_type": "execute_result"
    }
   ],
   "source": [
    "diff_mat = lambda n: np.c_[-np.identity(n-1), np.zeros(n-1)] + np.c_[np.zeros(n-1), np.identity(n-1)]\n",
    "D = diff_mat(4)\n",
    "x = np.array([-1,0,2,1])\n",
    "D @ x"
   ]
  },
  {
   "cell_type": "code",
   "execution_count": 33,
   "metadata": {},
   "outputs": [
    {
     "data": {
      "text/plain": [
       "array([ 1.,  2., -1.])"
      ]
     },
     "execution_count": 33,
     "metadata": {},
     "output_type": "execute_result"
    }
   ],
   "source": [
    "diff_mat = lambda n: sparse.hstack([-sparse.eye(n-1), sparse.coo_matrix((n-1,1))]) + sparse.hstack([sparse.coo_matrix((n-1,1)), sparse.eye(n-1)])\n",
    "D = diff_mat(4)\n",
    "D @ np.array([-1,0,2,1])"
   ]
  },
  {
   "cell_type": "markdown",
   "metadata": {},
   "source": [
    "Cara di atas memanfaatkan sparse matriks yang telah dibahas sebelumnya. "
   ]
  },
  {
   "cell_type": "markdown",
   "metadata": {},
   "source": [
    "### Running sum matrix"
   ]
  },
  {
   "cell_type": "markdown",
   "metadata": {},
   "source": [
    "Untuk membuat running sum matrix atau matrix yang berisikan angka 1 yang berada di bawah diagonal, bisa menggunakan cara di bawah ini."
   ]
  },
  {
   "cell_type": "code",
   "execution_count": 34,
   "metadata": {},
   "outputs": [
    {
     "data": {
      "text/plain": [
       "array([[1., 0., 0., 0.],\n",
       "       [1., 1., 0., 0.],\n",
       "       [1., 1., 1., 0.],\n",
       "       [1., 1., 1., 1.]])"
      ]
     },
     "execution_count": 34,
     "metadata": {},
     "output_type": "execute_result"
    }
   ],
   "source": [
    "def running_sum(n):\n",
    "    S = np.zeros((n,n))\n",
    "    for i in range(n):\n",
    "        for j in range(i+1):\n",
    "            S[i,j] = 1  \n",
    "    return S\n",
    "running_sum(4)"
   ]
  },
  {
   "cell_type": "markdown",
   "metadata": {},
   "source": [
    "Fungsi running_sum(n) bekerja dengan cara sebagai berikut:\n",
    "1. Buatlah matriks n x n dengan semua elemen 0\n",
    "2. Setiap elemen di baris i, i+1, i+2, ..., n adalah 1\n",
    "3. Lalu return S"
   ]
  },
  {
   "cell_type": "code",
   "execution_count": 35,
   "metadata": {},
   "outputs": [
    {
     "data": {
      "text/plain": [
       "array([-1.,  0.,  2.,  2.])"
      ]
     },
     "execution_count": 35,
     "metadata": {},
     "output_type": "execute_result"
    }
   ],
   "source": [
    "running_sum(4) @ np.array([-1,1,2,0])"
   ]
  },
  {
   "cell_type": "markdown",
   "metadata": {},
   "source": [
    "Selain menggunakan cara di atas dapat juga dengan menggunakan method trill(). Seperti pada contohdi bawah ini"
   ]
  },
  {
   "cell_type": "code",
   "execution_count": 36,
   "metadata": {},
   "outputs": [
    {
     "data": {
      "text/plain": [
       "array([[1., 0., 0., 0.],\n",
       "       [1., 1., 0., 0.],\n",
       "       [1., 1., 1., 0.],\n",
       "       [1., 1., 1., 1.]])"
      ]
     },
     "execution_count": 36,
     "metadata": {},
     "output_type": "execute_result"
    }
   ],
   "source": [
    "np.tril(np.ones((4,4)))"
   ]
  },
  {
   "cell_type": "markdown",
   "metadata": {},
   "source": [
    "### Vandermonde matrix"
   ]
  },
  {
   "cell_type": "code",
   "execution_count": 37,
   "metadata": {},
   "outputs": [
    {
     "data": {
      "text/plain": [
       "array([[ 1.    , -1.    ,  1.    , -1.    ,  1.    ],\n",
       "       [ 1.    ,  0.    ,  0.    ,  0.    ,  0.    ],\n",
       "       [ 1.    ,  0.5   ,  0.25  ,  0.125 ,  0.0625],\n",
       "       [ 1.    ,  1.    ,  1.    ,  1.    ,  1.    ]])"
      ]
     },
     "execution_count": 37,
     "metadata": {},
     "output_type": "execute_result"
    }
   ],
   "source": [
    "def vandermonde(t,n):\n",
    "    m = len(t)\n",
    "    V = np.zeros((m,n))\n",
    "    for i in range(m):\n",
    "        for j in range(n):\n",
    "            V[i,j] = t[i]**(j)\n",
    "    return V\n",
    "vandermonde(np.array([-1,0,0.5,1]),5)"
   ]
  },
  {
   "cell_type": "markdown",
   "metadata": {},
   "source": [
    "Fungsi diatas figunakan untuk membuat matriks Vandermonde. Fungsi vandermonde(t,n) bekerja dengan cara sebagai berikut:\n",
    "1. Buat array V dengan ukuran m x n\n",
    "2. Untuk setiap i, j, buat V[i,j] = t[i]**(j)\n",
    "3. Return V"
   ]
  },
  {
   "cell_type": "markdown",
   "metadata": {},
   "source": [
    "Selain membuat fungsi vandermonde sendiri, bisa juga dengan memanfaatkan method column_stack() yang terdapat pada module numpy."
   ]
  },
  {
   "cell_type": "code",
   "execution_count": 38,
   "metadata": {},
   "outputs": [
    {
     "data": {
      "text/plain": [
       "array([[ 1.    , -1.    ,  1.    , -1.    ,  1.    ],\n",
       "       [ 1.    ,  0.    ,  0.    ,  0.    ,  0.    ],\n",
       "       [ 1.    ,  0.5   ,  0.25  ,  0.125 ,  0.0625],\n",
       "       [ 1.    ,  1.    ,  1.    ,  1.    ,  1.    ]])"
      ]
     },
     "execution_count": 38,
     "metadata": {},
     "output_type": "execute_result"
    }
   ],
   "source": [
    "vandermonde = lambda t,n: np.column_stack([t**i for i in range(n)])\n",
    "vandermonde(np.array([-1,0,0.5,1]),5)"
   ]
  },
  {
   "cell_type": "markdown",
   "metadata": {},
   "source": [
    "## Complexity"
   ]
  },
  {
   "cell_type": "markdown",
   "metadata": {},
   "source": [
    "### Complexity of matrix-vector multiplication"
   ]
  },
  {
   "cell_type": "code",
   "execution_count": 39,
   "metadata": {},
   "outputs": [
    {
     "name": "stdout",
     "output_type": "stream",
     "text": [
      "0.0030357837677001953\n"
     ]
    }
   ],
   "source": [
    "import time\n",
    "A = np.random.random((1000,10000))\n",
    "x = np.random.random(10000)\n",
    "start = time.time()\n",
    "y = A @ x\n",
    "end = time.time()\n",
    "print(end - start)"
   ]
  },
  {
   "cell_type": "code",
   "execution_count": 40,
   "metadata": {},
   "outputs": [
    {
     "name": "stdout",
     "output_type": "stream",
     "text": [
      "0.027890920639038086\n"
     ]
    }
   ],
   "source": [
    "A = np.random.random((5000,20000))\n",
    "x = np.random.random(20000)\n",
    "start = time.time()\n",
    "y = A @ x\n",
    "end = time.time()\n",
    "print(end - start)"
   ]
  },
  {
   "cell_type": "markdown",
   "metadata": {},
   "source": [
    "Dari dua percobaan di atas menunjukkan bahwa kompleksitas dari operasi perkalian matriks dengan vektor adalah linear. Pada percobaan pertama dan kedua pertamabahan ukuran matriks A adalah 5 kalinya sedangkan vektor x 2 kalinya, sehingga secara teori pertambahan waktunya adalah 10 kali lipat. Dari hasil percobaan terbukti bahwa waktu yang dibutuhkan pada percobaan kedua hampir 10 kali dari waktu percobaan pertama."
   ]
  },
  {
   "cell_type": "code",
   "execution_count": 41,
   "metadata": {},
   "outputs": [
    {
     "name": "stdout",
     "output_type": "stream",
     "text": [
      "0.021548986434936523\n"
     ]
    }
   ],
   "source": [
    "n = 10**4;\n",
    "Ds = sparse.hstack([-sparse.eye(n-1),\n",
    "sparse.coo_matrix((n-1,1))]) + sparse.hstack([sparse.coo_matrix((n-1,1)), sparse.eye(n-1)])\n",
    "D = np.column_stack([np.eye(n-1), np.zeros(n-1)]) + np.column_stack([np.zeros(n-1), np.eye(n-1)])\n",
    "x = np.random.normal(size=n)\n",
    "import time\n",
    "start = time.time()\n",
    "D @ x\n",
    "end = time.time()\n",
    "print(end - start)"
   ]
  },
  {
   "cell_type": "code",
   "execution_count": 42,
   "metadata": {},
   "outputs": [
    {
     "name": "stdout",
     "output_type": "stream",
     "text": [
      "0.0\n"
     ]
    }
   ],
   "source": [
    "start = time.time()\n",
    "Ds @ x\n",
    "end = time.time()\n",
    "print(end - start)"
   ]
  },
  {
   "cell_type": "markdown",
   "metadata": {},
   "source": [
    "Waktu paling efisien dari perkalian matriks adalah ketika mengalikan difference matrix dengan vektor, seperti contoh diatas."
   ]
  },
  {
   "cell_type": "markdown",
   "metadata": {},
   "source": [
    "# Matrix examples"
   ]
  },
  {
   "cell_type": "code",
   "execution_count": 43,
   "metadata": {},
   "outputs": [],
   "source": [
    "import matplotlib.pyplot as plt"
   ]
  },
  {
   "cell_type": "markdown",
   "metadata": {},
   "source": [
    "## Geometric transformations"
   ]
  },
  {
   "cell_type": "code",
   "execution_count": 44,
   "metadata": {},
   "outputs": [
    {
     "data": {
      "image/png": "[encoded data removed]",
      "text/plain": [
       "<Figure size 432x288 with 1 Axes>"
      ]
     },
     "metadata": {
      "needs_background": "light"
     },
     "output_type": "display_data"
    }
   ],
   "source": [
    "Rot = lambda theta: [[np.cos(theta), -np.sin(theta)], [np.sin(theta), np.cos(theta)]]\n",
    "R = Rot(np.pi/3)\n",
    "#create a list of 2-D points\n",
    "points = np.array([[1,0],[1.5,0],[2,0],[1,0.25],[1.5,0.25],[1,0.5]])\n",
    "#Now rotate them\n",
    "rpoints = np.array([R @ p for p in points])\n",
    "#Show the two sets of points\n",
    "plt.ion()\n",
    "plt.scatter([c[0] for c in points], [c[1] for c in points])\n",
    "plt.scatter([c[0] for c in rpoints],[c[1] for c in rpoints])\n",
    "plt.show()"
   ]
  },
  {
   "cell_type": "markdown",
   "metadata": {},
   "source": [
    "Contoh di atas merupakan cara untuk merotasi sebuah array berisi point sebesar pi/3. Pada baris pertama, dibuat fungsi bernama Rot() untuk menghasilkan matriks rotasi dengan parameter sudut rotasi. Pada baris kedua, dibuat matriks rotasi dengan menggunakan fungsi Rot() dengan sudut pi/3 sebagai parameternya. Pada baris ketiga, dibuat array of point yang akan dirotasi dengan nama points. Pada baris keempat, array points dirotasi dengan mengalikannya dengan matriks R. Setelah itu array of point yang telah dirotasi ditampilkan dengan menggunakan scatter plot."
   ]
  },
  {
   "cell_type": "markdown",
   "metadata": {},
   "source": [
    "## Selectors"
   ]
  },
  {
   "cell_type": "markdown",
   "metadata": {},
   "source": [
    "### Reverser matrix"
   ]
  },
  {
   "cell_type": "code",
   "execution_count": 45,
   "metadata": {},
   "outputs": [
    {
     "data": {
      "text/plain": [
       "array([[0., 0., 0., 0., 1.],\n",
       "       [0., 0., 0., 1., 0.],\n",
       "       [0., 0., 1., 0., 0.],\n",
       "       [0., 1., 0., 0., 0.],\n",
       "       [1., 0., 0., 0., 0.]])"
      ]
     },
     "execution_count": 45,
     "metadata": {},
     "output_type": "execute_result"
    }
   ],
   "source": [
    "reverser = lambda n: np.flip(np.eye(n),axis=0)\n",
    "A = reverser(5)\n",
    "A"
   ]
  },
  {
   "cell_type": "markdown",
   "metadata": {},
   "source": [
    "Untuk membalikkan suatu matrix dapat digunakan method flip() yang terdapat pada array numpy seperti pada contoh di atas."
   ]
  },
  {
   "cell_type": "markdown",
   "metadata": {},
   "source": [
    "### Permutation matrix"
   ]
  },
  {
   "cell_type": "code",
   "execution_count": 46,
   "metadata": {},
   "outputs": [
    {
     "data": {
      "text/plain": [
       "array([ 2.4,  0.2, -1.7])"
      ]
     },
     "execution_count": 46,
     "metadata": {},
     "output_type": "execute_result"
    }
   ],
   "source": [
    "A = np.array([[0,0,1], [1,0,0], [0,1,0]])\n",
    "x = np.array([0.2, -1.7, 2.4])\n",
    "A @ x # Permutes entries of x to [x[2], x[0], x[1]]"
   ]
  },
  {
   "cell_type": "markdown",
   "metadata": {},
   "source": [
    "Pada kode diatas pertama dilakukan pembuatan matriks permutasi dan vektor x. Kemudian dilakukan perkalian matriks A dengan vektor x untuk mendapatkan vektor x baru yang terurut berdasarkan matriks A."
   ]
  },
  {
   "cell_type": "markdown",
   "metadata": {},
   "source": [
    "## Incidence matrix"
   ]
  },
  {
   "cell_type": "markdown",
   "metadata": {},
   "source": [
    "### Incidence matrix of a graph"
   ]
  },
  {
   "cell_type": "code",
   "execution_count": 47,
   "metadata": {},
   "outputs": [
    {
     "data": {
      "text/plain": [
       "<matplotlib.image.AxesImage at 0x22209be14f0>"
      ]
     },
     "execution_count": 47,
     "metadata": {},
     "output_type": "execute_result"
    },
    {
     "data": {
      "image/png": "[encoded data removed]",
      "text/plain": [
       "<Figure size 432x288 with 1 Axes>"
      ]
     },
     "metadata": {
      "needs_background": "light"
     },
     "output_type": "display_data"
    }
   ],
   "source": [
    "import matplotlib.image as mimg\n",
    "plt.imshow(mimg.imread('.\\lab_files\\ss.png'))"
   ]
  },
  {
   "cell_type": "code",
   "execution_count": 48,
   "metadata": {},
   "outputs": [
    {
     "data": {
      "text/plain": [
       "array([0., 0., 0., 0.])"
      ]
     },
     "execution_count": 48,
     "metadata": {},
     "output_type": "execute_result"
    }
   ],
   "source": [
    "A = np.array([[-1,-1,0,1,0], [1,0,-1,0,0], [0,0,1,-1,-1], [0,1,0,0,1]])\n",
    "xcirc = np.array([1,-1,1,0,1]) #A circulation\n",
    "s = np.array([1,0,-1,0,]) # A source vector\n",
    "x = np.array([0.6,0.3,0.6,-0.1,-0.3]) #A flow vector\n",
    "A @ x + s #Total incoming flow at each node"
   ]
  },
  {
   "cell_type": "markdown",
   "metadata": {},
   "source": [
    "Kode di atas menghasilkan incidence matrix dari graf di atas. "
   ]
  },
  {
   "cell_type": "markdown",
   "metadata": {},
   "source": [
    "### Dirichlet energy"
   ]
  },
  {
   "cell_type": "code",
   "execution_count": 49,
   "metadata": {},
   "outputs": [
    {
     "data": {
      "text/plain": [
       "2.9999999999999996"
      ]
     },
     "execution_count": 49,
     "metadata": {},
     "output_type": "execute_result"
    }
   ],
   "source": [
    "A = np.array([[-1,-1,0,1,0], [1,0,-1,0,0], [0,0,1,-1,-1], [0,1,0,0,1]])\n",
    "vsmooth = np.array([1,2,2,1])\n",
    "np.linalg.norm(A.T @ vsmooth)**2 #Dirichlet energy of vsmooth"
   ]
  },
  {
   "cell_type": "markdown",
   "metadata": {},
   "source": [
    "kode di atas digunakan untuk menghitung energi dirichlet vsmooth dari graf di atas."
   ]
  },
  {
   "cell_type": "code",
   "execution_count": 50,
   "metadata": {},
   "outputs": [
    {
     "data": {
      "text/plain": [
       "27.0"
      ]
     },
     "execution_count": 50,
     "metadata": {},
     "output_type": "execute_result"
    }
   ],
   "source": [
    "vrough = np.array([1,-1, 2, -1])\n",
    "np.linalg.norm(A.T @ vrough)**2 # Dirichlet energy of vrough"
   ]
  },
  {
   "cell_type": "markdown",
   "metadata": {},
   "source": [
    "Kode di atas digunakan untuk menghitung energi dirichlet vrough dari graf di atas."
   ]
  },
  {
   "cell_type": "markdown",
   "metadata": {},
   "source": [
    "## Convolution"
   ]
  },
  {
   "cell_type": "code",
   "execution_count": 51,
   "metadata": {},
   "outputs": [
    {
     "data": {
      "text/plain": [
       "array([ 2,  3, -3, -1,  1, -2])"
      ]
     },
     "execution_count": 51,
     "metadata": {},
     "output_type": "execute_result"
    }
   ],
   "source": [
    "a = np.array([1,1]) # coefficients of 1+x\n",
    "b = np.array([2,-1,1]) # coefficients of 2-x+x^2\n",
    "c = np.array([1,1,-2]) # coefficients of 1+x-2x^2\n",
    "d = np.convolve(np.convolve(a,b),c) # coefficients of product\n",
    "d"
   ]
  },
  {
   "cell_type": "markdown",
   "metadata": {},
   "source": [
    "Pada modul numpy terdapat method convolve() yang digunakan untuk melakukan convolution."
   ]
  },
  {
   "cell_type": "markdown",
   "metadata": {},
   "source": [
    "# Linear Equations"
   ]
  },
  {
   "cell_type": "markdown",
   "metadata": {},
   "source": [
    "## Linear and affine functions"
   ]
  },
  {
   "cell_type": "markdown",
   "metadata": {},
   "source": [
    "### Matrix vector product function"
   ]
  },
  {
   "cell_type": "code",
   "execution_count": 52,
   "metadata": {},
   "outputs": [
    {
     "name": "stdout",
     "output_type": "stream",
     "text": [
      "LHS: [ 9.47 16.75]\n",
      "RHS: [ 9.47 16.75]\n",
      "1.7763568394002505e-15\n"
     ]
    }
   ],
   "source": [
    "A = np.array([[-0.1,2.8,-1.6],[2.3,-0.6,-3.6]]) #2 by 3 matrix A\n",
    "f = lambda x: A @ x\n",
    "#Let's check superposition\n",
    "x = np.array([1,2,3])\n",
    "y = np.array([-3,-1,2])\n",
    "alpha = 0.5\n",
    "beta = -1.6\n",
    "LHS = f(alpha*x + beta*y)\n",
    "print('LHS:', LHS)\n",
    "RHS = alpha*f(x) + beta*f(y)\n",
    "print('RHS:', RHS)\n",
    "print(np.linalg.norm(LHS - RHS))"
   ]
  },
  {
   "cell_type": "code",
   "execution_count": 53,
   "metadata": {},
   "outputs": [
    {
     "data": {
      "text/plain": [
       "array([ 2.8, -0.6])"
      ]
     },
     "execution_count": 53,
     "metadata": {},
     "output_type": "execute_result"
    }
   ],
   "source": [
    "f(np.array([0,1,0])) #Should be second column of A"
   ]
  },
  {
   "cell_type": "markdown",
   "metadata": {},
   "source": [
    "Kode di atas membuat matrix A berukuran 2 x 3. Lalu melakukan pengecekan superposisi."
   ]
  },
  {
   "cell_type": "markdown",
   "metadata": {},
   "source": [
    "### De-meaning matrix"
   ]
  },
  {
   "cell_type": "code",
   "execution_count": 54,
   "metadata": {},
   "outputs": [
    {
     "data": {
      "text/plain": [
       "array([-0.96666667,  1.13333333, -0.16666667])"
      ]
     },
     "execution_count": 54,
     "metadata": {},
     "output_type": "execute_result"
    }
   ],
   "source": [
    "de_mean = lambda n: np.identity(n) - (1/n)\n",
    "x = np.array([0.2,2.3,1.0])\n",
    "de_mean(len(x)) @ x #De-mean using matrix multiplication"
   ]
  },
  {
   "cell_type": "markdown",
   "metadata": {},
   "source": [
    "fungsi de_mean() digunakan untuk membuat matriks de-mean dengan cara membuat matriks indentity kemudian menguranginnya dengan 1/n."
   ]
  },
  {
   "cell_type": "markdown",
   "metadata": {},
   "source": [
    "## Linear functions models"
   ]
  },
  {
   "cell_type": "markdown",
   "metadata": {},
   "source": [
    "### Price elasticity of demand"
   ]
  },
  {
   "cell_type": "markdown",
   "metadata": {},
   "source": [
    "Di bawah ini merupakan contoh dari linear function model yang digunakan untuk menghitung price elasticity dari demand."
   ]
  },
  {
   "cell_type": "code",
   "execution_count": 55,
   "metadata": {},
   "outputs": [
    {
     "name": "stdout",
     "output_type": "stream",
     "text": [
      "77.52\n"
     ]
    }
   ],
   "source": [
    "p = np.array([10, 20, 15]) #Current prices\n",
    "d = np.array([5.6, 1.5, 8.6]) #Current demand (say in thousands)\n",
    "c = np.array([6.5, 11.2, 9.8]) #Cost to manufacture\n",
    "profit = (p - c) @ d #Current total profit\n",
    "print(profit)"
   ]
  },
  {
   "cell_type": "markdown",
   "metadata": {},
   "source": [
    "p merupakan harga produk, d merupakan jumlah demand, dan c merupakan harga produk yang dibutuhkan untuk membuat produk."
   ]
  },
  {
   "cell_type": "code",
   "execution_count": 56,
   "metadata": {},
   "outputs": [
    {
     "name": "stdout",
     "output_type": "stream",
     "text": [
      "[-0.1         0.05       -0.06666667]\n"
     ]
    }
   ],
   "source": [
    "#Demand elesticity matrix\n",
    "E = np.array([[-0.3, 0.1, -0.1], [0.1, -0.5, 0.05], [-0.1, 0.05, -0.4]])\n",
    "p_new = np.array([9,21,14]) #Proposed new prices\n",
    "delta_p = (p_new - p)/p #Fractional change in prices\n",
    "print(delta_p)"
   ]
  },
  {
   "cell_type": "code",
   "execution_count": 57,
   "metadata": {},
   "outputs": [
    {
     "name": "stdout",
     "output_type": "stream",
     "text": [
      "[ 0.04166667 -0.03833333  0.03916667]\n"
     ]
    }
   ],
   "source": [
    "delta_d = E @ delta_p # Predicted fractional change in demand\n",
    "print(delta_d)"
   ]
  },
  {
   "cell_type": "code",
   "execution_count": 58,
   "metadata": {},
   "outputs": [
    {
     "name": "stdout",
     "output_type": "stream",
     "text": [
      "[5.83333333 1.4425     8.93683333]\n"
     ]
    }
   ],
   "source": [
    "d_new = d * (1 + delta_d) # Predicted new demand\n",
    "print(d_new)"
   ]
  },
  {
   "cell_type": "code",
   "execution_count": 59,
   "metadata": {},
   "outputs": [
    {
     "name": "stdout",
     "output_type": "stream",
     "text": [
      "66.25453333333333\n"
     ]
    }
   ],
   "source": [
    "profit_new = (p_new - c) @ d_new #Predicted new profit\n",
    "print(profit_new)"
   ]
  },
  {
   "cell_type": "markdown",
   "metadata": {},
   "source": [
    "Dari perkalian E dan delta_p dihasilkan prediksi perubahan dari demand. d dengan (1 + delta_d) dihasilkan prediksi demand baru. (p_new - c) dengan d_new dihasilkan prediksi profit baru."
   ]
  },
  {
   "cell_type": "markdown",
   "metadata": {},
   "source": [
    "### Taylor approximation"
   ]
  },
  {
   "cell_type": "code",
   "execution_count": 60,
   "metadata": {},
   "outputs": [
    {
     "data": {
      "text/plain": [
       "array([0.90553851, 1.27279221])"
      ]
     },
     "execution_count": 60,
     "metadata": {},
     "output_type": "execute_result"
    }
   ],
   "source": [
    "f = lambda x: np.array([np.linalg.norm(x-a),\n",
    "np.linalg.norm(x-b)])\n",
    "Df = lambda z: np.array([(z-a)/np.linalg.norm(z-a), (z-b)/np.linalg.norm(z-b)])\n",
    "f_hat = lambda x: f(z) + Df(z)@(x - z)\n",
    "a = np.array([1,0])\n",
    "b = np.array([1,1])\n",
    "z = np.array([0,0])\n",
    "f(np.array([0.1,0.1]))"
   ]
  },
  {
   "cell_type": "code",
   "execution_count": 61,
   "metadata": {},
   "outputs": [
    {
     "data": {
      "text/plain": [
       "array([0.9       , 1.27279221])"
      ]
     },
     "execution_count": 61,
     "metadata": {},
     "output_type": "execute_result"
    }
   ],
   "source": [
    "f_hat(np.array([0.1,0.1]))"
   ]
  },
  {
   "cell_type": "code",
   "execution_count": 62,
   "metadata": {},
   "outputs": [
    {
     "data": {
      "text/plain": [
       "array([0.70710678, 0.70710678])"
      ]
     },
     "execution_count": 62,
     "metadata": {},
     "output_type": "execute_result"
    }
   ],
   "source": [
    "f(np.array([0.5,0.5]))"
   ]
  },
  {
   "cell_type": "code",
   "execution_count": 63,
   "metadata": {},
   "outputs": [
    {
     "data": {
      "text/plain": [
       "array([0.5       , 0.70710678])"
      ]
     },
     "execution_count": 63,
     "metadata": {},
     "output_type": "execute_result"
    }
   ],
   "source": [
    "f_hat(np.array([0.5,0.5]))"
   ]
  },
  {
   "cell_type": "markdown",
   "metadata": {},
   "source": [
    "### Regression model"
   ]
  },
  {
   "cell_type": "code",
   "execution_count": 64,
   "metadata": {},
   "outputs": [
    {
     "data": {
      "text/plain": [
       "(2, 774)"
      ]
     },
     "execution_count": 64,
     "metadata": {},
     "output_type": "execute_result"
    }
   ],
   "source": [
    "from data import house_sales_data\n",
    "# parameters in regression model\n",
    "beta = [148.73, -18.85]\n",
    "v = 54.40\n",
    "D = house_sales_data()\n",
    "yd = D['price'] # vector of outcomes\n",
    "N = len(yd)\n",
    "X = np.vstack((D['area'], D['beds']))\n",
    "X.shape"
   ]
  },
  {
   "cell_type": "code",
   "execution_count": 65,
   "metadata": {},
   "outputs": [
    {
     "data": {
      "text/plain": [
       "74.84571862623025"
      ]
     },
     "execution_count": 65,
     "metadata": {},
     "output_type": "execute_result"
    }
   ],
   "source": [
    "ydhat = beta @ X + v; # vector of predicted outcomes\n",
    "rd = yd - ydhat; # vector of predicted errors\n",
    "np.sqrt(sum(rd**2)/len(rd)) # RMS prediction error"
   ]
  },
  {
   "cell_type": "code",
   "execution_count": 66,
   "metadata": {},
   "outputs": [
    {
     "data": {
      "text/plain": [
       "112.78216159756509"
      ]
     },
     "execution_count": 66,
     "metadata": {},
     "output_type": "execute_result"
    }
   ],
   "source": [
    "# Compare with standard deviation of prices\n",
    "np.std(yd)"
   ]
  },
  {
   "cell_type": "markdown",
   "metadata": {},
   "source": [
    "Data yang terdapat pada house_sales_data() bersikan 2 x 744 data. Dari data tersebut, dibuat model regression yang kemudian dihitung prediksi errornya."
   ]
  },
  {
   "cell_type": "markdown",
   "metadata": {},
   "source": [
    "## Systems of linear equations"
   ]
  },
  {
   "cell_type": "markdown",
   "metadata": {},
   "source": [
    "### Balancing chemical reactions"
   ]
  },
  {
   "cell_type": "code",
   "execution_count": 67,
   "metadata": {},
   "outputs": [
    {
     "data": {
      "text/plain": [
       "array([0, 0])"
      ]
     },
     "execution_count": 67,
     "metadata": {},
     "output_type": "execute_result"
    }
   ],
   "source": [
    "R = np.array([2,1])\n",
    "P = np.array([[2,0], [0,2]])\n",
    "#Check balancing coefficients [2,2,1]\n",
    "coeff = np.array([2,2,1])\n",
    "coeff @ np.vstack((R, -P))"
   ]
  },
  {
   "cell_type": "markdown",
   "metadata": {},
   "source": [
    "Kode di atas digunakan untuk melakukan verifikasi persamaan kesetimbangan reaksi kimia."
   ]
  },
  {
   "cell_type": "markdown",
   "metadata": {},
   "source": [
    "# Matrix multiplication"
   ]
  },
  {
   "cell_type": "markdown",
   "metadata": {},
   "source": [
    "## Matrix-matrix multiplication"
   ]
  },
  {
   "cell_type": "code",
   "execution_count": 68,
   "metadata": {},
   "outputs": [
    {
     "name": "stdout",
     "output_type": "stream",
     "text": [
      "[[ 3.5 -4.5]\n",
      " [-1.   1. ]]\n"
     ]
    }
   ],
   "source": [
    "A = np.array([[-1.5, 3, 2], [1, -1,0]]) #2 by 3 matrix\n",
    "B = np.array([[-1,-1], [0,-2], [1,0]]) #3 by 2 matrix\n",
    "C = A @ B\n",
    "print(C)"
   ]
  },
  {
   "cell_type": "code",
   "execution_count": 69,
   "metadata": {},
   "outputs": [
    {
     "name": "stdout",
     "output_type": "stream",
     "text": [
      "[[ 3.5 -4.5]\n",
      " [-1.   1. ]]\n"
     ]
    }
   ],
   "source": [
    "C = np.matmul(A,B)\n",
    "print(C)"
   ]
  },
  {
   "cell_type": "markdown",
   "metadata": {},
   "source": [
    "Dalam bahasa python pengalian matriks dapat dilakukan dengan menggunakan operator @ atau bisa juga dengan menggunakan method matmul()."
   ]
  },
  {
   "cell_type": "markdown",
   "metadata": {},
   "source": [
    "### Gram matrix"
   ]
  },
  {
   "cell_type": "markdown",
   "metadata": {},
   "source": [
    "Gram matriks adalah matriks yang memiliki elemen yang sama dengan jumlah baris dan kolomnya. Untuk menghasilkan Gram matriks dari suatu matriks, bisa dilakukan dengan menggunakan method di bawah ini. "
   ]
  },
  {
   "cell_type": "code",
   "execution_count": 70,
   "metadata": {},
   "outputs": [
    {
     "name": "stdout",
     "output_type": "stream",
     "text": [
      "[[ 4.58596545  1.15849405  1.49444091]\n",
      " [ 1.15849405 15.03174204  3.40079227]\n",
      " [ 1.49444091  3.40079227  4.44895958]]\n"
     ]
    }
   ],
   "source": [
    "A = np.random.normal(size = (10,3))\n",
    "G = A.T @ A\n",
    "print(G)"
   ]
  },
  {
   "cell_type": "code",
   "execution_count": 71,
   "metadata": {},
   "outputs": [
    {
     "data": {
      "text/plain": [
       "15.031742038927081"
      ]
     },
     "execution_count": 71,
     "metadata": {},
     "output_type": "execute_result"
    }
   ],
   "source": [
    "#Gii is norm of column i, squared\n",
    "G[1,1]"
   ]
  },
  {
   "cell_type": "code",
   "execution_count": 72,
   "metadata": {},
   "outputs": [
    {
     "data": {
      "text/plain": [
       "15.031742038927081"
      ]
     },
     "execution_count": 72,
     "metadata": {},
     "output_type": "execute_result"
    }
   ],
   "source": [
    "np.linalg.norm(A[:,1])**2"
   ]
  },
  {
   "cell_type": "code",
   "execution_count": 73,
   "metadata": {},
   "outputs": [
    {
     "data": {
      "text/plain": [
       "1.494440910675885"
      ]
     },
     "execution_count": 73,
     "metadata": {},
     "output_type": "execute_result"
    }
   ],
   "source": [
    "#Gij is inner product of columns i and j\n",
    "G[0,2]"
   ]
  },
  {
   "cell_type": "code",
   "execution_count": 74,
   "metadata": {},
   "outputs": [
    {
     "data": {
      "text/plain": [
       "1.494440910675885"
      ]
     },
     "execution_count": 74,
     "metadata": {},
     "output_type": "execute_result"
    }
   ],
   "source": [
    "A[:,0] @ A[:,2]"
   ]
  },
  {
   "cell_type": "markdown",
   "metadata": {},
   "source": [
    "### Complexity of matrix triple product"
   ]
  },
  {
   "cell_type": "code",
   "execution_count": 75,
   "metadata": {},
   "outputs": [
    {
     "name": "stdout",
     "output_type": "stream",
     "text": [
      "0.11027240753173828\n"
     ]
    }
   ],
   "source": [
    "import time\n",
    "m = 2000\n",
    "n = 50\n",
    "q = 2000\n",
    "p = 2000\n",
    "A = np.random.normal(size = (m,n))\n",
    "B = np.random.normal(size = (n,p))\n",
    "C = np.random.normal(size = (p,q))\n",
    "start = time.time()\n",
    "LHS = (A @ B) @ C\n",
    "end = time.time()\n",
    "print(end - start)"
   ]
  },
  {
   "cell_type": "code",
   "execution_count": 76,
   "metadata": {},
   "outputs": [
    {
     "name": "stdout",
     "output_type": "stream",
     "text": [
      "0.12799501419067383\n"
     ]
    }
   ],
   "source": [
    "start = time.time()\n",
    "LHS = (A @ B) @ C\n",
    "end = time.time()\n",
    "print(end - start)"
   ]
  },
  {
   "cell_type": "code",
   "execution_count": 77,
   "metadata": {},
   "outputs": [
    {
     "name": "stdout",
     "output_type": "stream",
     "text": [
      "0.022997617721557617\n"
     ]
    }
   ],
   "source": [
    "start = time.time()\n",
    "RHS = A @ (B @ C)\n",
    "end = time.time()\n",
    "print(end - start)"
   ]
  },
  {
   "cell_type": "code",
   "execution_count": 78,
   "metadata": {},
   "outputs": [
    {
     "name": "stdout",
     "output_type": "stream",
     "text": [
      "0.02600240707397461\n"
     ]
    }
   ],
   "source": [
    "start = time.time()\n",
    "RHS = A @ (B @ C)\n",
    "end = time.time()\n",
    "print(end - start)"
   ]
  },
  {
   "cell_type": "code",
   "execution_count": 79,
   "metadata": {},
   "outputs": [
    {
     "data": {
      "text/plain": [
       "4.0580894412324467e-10"
      ]
     },
     "execution_count": 79,
     "metadata": {},
     "output_type": "execute_result"
    }
   ],
   "source": [
    "np.linalg.norm(LHS - RHS)"
   ]
  },
  {
   "cell_type": "code",
   "execution_count": 80,
   "metadata": {},
   "outputs": [
    {
     "name": "stdout",
     "output_type": "stream",
     "text": [
      "0.10999321937561035\n"
     ]
    }
   ],
   "source": [
    "start = time.time()\n",
    "D = A @ B @ C #Evaluated as (A@B)@C or as A@(B@C)?\n",
    "end = time.time()\n",
    "print(end - start)"
   ]
  },
  {
   "cell_type": "markdown",
   "metadata": {},
   "source": [
    "Dari percobaan di atas perkalian (A@B)@C memerlukan waktu 10 kali lebih lama dari perkalian A@(B@C)."
   ]
  },
  {
   "cell_type": "markdown",
   "metadata": {},
   "source": [
    "## Composition of linear functions"
   ]
  },
  {
   "cell_type": "markdown",
   "metadata": {},
   "source": [
    "### Second difference matrix"
   ]
  },
  {
   "cell_type": "code",
   "execution_count": 81,
   "metadata": {},
   "outputs": [
    {
     "data": {
      "text/plain": [
       "array([[-1.,  1.,  0.,  0.,  0.],\n",
       "       [ 0., -1.,  1.,  0.,  0.],\n",
       "       [ 0.,  0., -1.,  1.,  0.],\n",
       "       [ 0.,  0.,  0., -1.,  1.]])"
      ]
     },
     "execution_count": 81,
     "metadata": {},
     "output_type": "execute_result"
    }
   ],
   "source": [
    "D = lambda n: np.c_[-np.identity(n-1), np.zeros(n-1)] + np.c_[np.zeros(n-1), np.identity(n-1)]\n",
    "D(5)"
   ]
  },
  {
   "cell_type": "code",
   "execution_count": 82,
   "metadata": {},
   "outputs": [
    {
     "data": {
      "text/plain": [
       "array([[-1.,  1.,  0.,  0.],\n",
       "       [ 0., -1.,  1.,  0.],\n",
       "       [ 0.,  0., -1.,  1.]])"
      ]
     },
     "execution_count": 82,
     "metadata": {},
     "output_type": "execute_result"
    }
   ],
   "source": [
    "D(4)"
   ]
  },
  {
   "cell_type": "code",
   "execution_count": 83,
   "metadata": {},
   "outputs": [
    {
     "name": "stdout",
     "output_type": "stream",
     "text": [
      "[[ 1. -2.  1.  0.  0.]\n",
      " [ 0.  1. -2.  1.  0.]\n",
      " [ 0.  0.  1. -2.  1.]]\n"
     ]
    }
   ],
   "source": [
    "Delta = D(4) @ D(5) #Second difference matrix\n",
    "print(Delta)"
   ]
  },
  {
   "cell_type": "markdown",
   "metadata": {},
   "source": [
    "Fungsi D pada kode di atas menghasilkan matriks second difference."
   ]
  },
  {
   "cell_type": "markdown",
   "metadata": {},
   "source": [
    "## Matrix Power"
   ]
  },
  {
   "cell_type": "code",
   "execution_count": 84,
   "metadata": {},
   "outputs": [
    {
     "data": {
      "text/plain": [
       "array([[1, 0, 1, 1, 0],\n",
       "       [0, 1, 1, 1, 2],\n",
       "       [1, 0, 1, 2, 1],\n",
       "       [0, 1, 0, 0, 1],\n",
       "       [1, 0, 0, 0, 0]])"
      ]
     },
     "execution_count": 84,
     "metadata": {},
     "output_type": "execute_result"
    }
   ],
   "source": [
    "A = np.array([[0,1,0,0,1], [1,0,1,0,0], [0,0,1,1,1], [1,0,0,0,0], [0,0,0,1,0]])\n",
    "np.linalg.matrix_power(A,2)"
   ]
  },
  {
   "cell_type": "code",
   "execution_count": 85,
   "metadata": {},
   "outputs": [
    {
     "data": {
      "text/plain": [
       "array([[18, 11, 15, 20, 20],\n",
       "       [25, 14, 21, 28, 26],\n",
       "       [24, 14, 20, 27, 26],\n",
       "       [11,  6,  9, 12, 11],\n",
       "       [ 6,  4,  5,  7,  7]])"
      ]
     },
     "execution_count": 85,
     "metadata": {},
     "output_type": "execute_result"
    }
   ],
   "source": [
    "np.linalg.matrix_power(A,8)"
   ]
  },
  {
   "cell_type": "code",
   "execution_count": 86,
   "metadata": {},
   "outputs": [
    {
     "name": "stdout",
     "output_type": "stream",
     "text": [
      "[18 14 20 12  7]\n"
     ]
    }
   ],
   "source": [
    "num_of_cycles = np.diag(np.linalg.matrix_power(A,8))\n",
    "print(num_of_cycles)"
   ]
  },
  {
   "cell_type": "markdown",
   "metadata": {},
   "source": [
    "Seperti pada contoh di atas, untuk melakukan pemangkatan matriks dapat digunakan method linalg.matrix_power() yang terdapat pada module numpy."
   ]
  },
  {
   "cell_type": "markdown",
   "metadata": {},
   "source": [
    "### Populations dynamics"
   ]
  },
  {
   "cell_type": "code",
   "execution_count": 87,
   "metadata": {},
   "outputs": [
    {
     "data": {
      "text/plain": [
       "Text(0, 0.5, 'Factor')"
      ]
     },
     "execution_count": 87,
     "metadata": {},
     "output_type": "execute_result"
    },
    {
     "data": {
      "image/png": "[encoded data removed]",
      "text/plain": [
       "<Figure size 432x288 with 1 Axes>"
      ]
     },
     "metadata": {
      "needs_background": "light"
     },
     "output_type": "display_data"
    }
   ],
   "source": [
    "from data import population_data\n",
    "plt.ion()\n",
    "D = population_data()\n",
    "b = D['birth_rate']\n",
    "d = D['death_rate']\n",
    "# Dynamics matrix for populaion dynamics\n",
    "A = np.vstack([b, np.column_stack([np.diag(1-d[:-1]), np.zeros((len(d)-1))])])\n",
    "# Contribution factor to total poulation in 2020\n",
    "# from each age in 2010\n",
    "cf = np.ones(100) @ np.linalg.matrix_power(A,10) # Contribution factor\n",
    "plt.plot(cf)\n",
    "plt.xlabel('Age')\n",
    "plt.ylabel('Factor')"
   ]
  },
  {
   "cell_type": "markdown",
   "metadata": {},
   "source": [
    "## QR factorization"
   ]
  },
  {
   "cell_type": "markdown",
   "metadata": {},
   "source": [
    "### Remarks"
   ]
  },
  {
   "cell_type": "code",
   "execution_count": 88,
   "metadata": {},
   "outputs": [],
   "source": [
    "def gram_schmidt(A):\n",
    "    Q = np.zeros((A.shape[0], A.shape[1]))\n",
    "    R = np.zeros((A.shape[1], A.shape[1]))\n",
    "    for i in range(A.shape[1]):\n",
    "        Q[:,i] = A[:,i]\n",
    "        for j in range(i):\n",
    "            R[i,j] = np.dot(Q[:,i], Q[:,j])\n",
    "            Q[:,i] = Q[:,i] - R[i,j] * Q[:,j]\n",
    "        R[i,i] = np.linalg.norm(Q[:,i])\n",
    "        Q[:,i] = Q[:,i] / R[i,i]\n",
    "    return Q, R\n",
    "\n",
    "def QR_factorization(A):\n",
    "    Q_transpose = np.array(gram_schmidt(A.T))\n",
    "    R = Q_transpose @ A\n",
    "    Q = Q_transpose.T\n",
    "    return Q, R\n",
    "Q, R = QR_factorization(A)"
   ]
  },
  {
   "cell_type": "markdown",
   "metadata": {},
   "source": [
    "Untuk melakukan QR factorization bisa dengan memanfaatkan fungsi gram_schmidt(). Selain itu juga dapat menggunakan method linalg.qr() yang terdapat pada module numpy."
   ]
  },
  {
   "cell_type": "code",
   "execution_count": 89,
   "metadata": {},
   "outputs": [],
   "source": [
    "Q, R = np.linalg.qr(A)"
   ]
  },
  {
   "cell_type": "code",
   "execution_count": 90,
   "metadata": {},
   "outputs": [
    {
     "data": {
      "text/plain": [
       "array([[-1.74427492, -0.47479365,  0.03512516, -0.46249743],\n",
       "       [ 0.        ,  2.50553683,  1.12332154, -0.36968818],\n",
       "       [ 0.        ,  0.        ,  1.14862247,  1.66235046],\n",
       "       [ 0.        ,  0.        ,  0.        ,  0.96909334]])"
      ]
     },
     "execution_count": 90,
     "metadata": {},
     "output_type": "execute_result"
    }
   ],
   "source": [
    "A = np.random.normal(size = (6,4))\n",
    "Q, R = np.linalg.qr(A)\n",
    "R"
   ]
  },
  {
   "cell_type": "code",
   "execution_count": 92,
   "metadata": {},
   "outputs": [
    {
     "data": {
      "text/plain": [
       "1.0881460057406233e-15"
      ]
     },
     "execution_count": 92,
     "metadata": {},
     "output_type": "execute_result"
    }
   ],
   "source": [
    "np.linalg.norm(Q @ R - A)"
   ]
  },
  {
   "cell_type": "code",
   "execution_count": 93,
   "metadata": {},
   "outputs": [
    {
     "data": {
      "text/plain": [
       "array([[ 1.00000000e+00, -5.56596686e-17,  4.76116085e-18,\n",
       "        -1.75431468e-17],\n",
       "       [-5.56596686e-17,  1.00000000e+00, -2.11661694e-16,\n",
       "        -4.52994235e-17],\n",
       "       [ 4.76116085e-18, -2.11661694e-16,  1.00000000e+00,\n",
       "         2.10558715e-17],\n",
       "       [-1.75431468e-17, -4.52994235e-17,  2.10558715e-17,\n",
       "         1.00000000e+00]])"
      ]
     },
     "execution_count": 93,
     "metadata": {},
     "output_type": "execute_result"
    }
   ],
   "source": [
    "Q.T @ Q"
   ]
  },
  {
   "cell_type": "markdown",
   "metadata": {},
   "source": [
    "# Matrix inverse"
   ]
  },
  {
   "cell_type": "markdown",
   "metadata": {},
   "source": [
    "## Left and right inverse"
   ]
  },
  {
   "cell_type": "code",
   "execution_count": 94,
   "metadata": {},
   "outputs": [
    {
     "data": {
      "text/plain": [
       "array([[ 1.0000000e+00,  0.0000000e+00],\n",
       "       [-4.4408921e-16,  1.0000000e+00]])"
      ]
     },
     "execution_count": 94,
     "metadata": {},
     "output_type": "execute_result"
    }
   ],
   "source": [
    "A = np.array([[-3,-4], [4,6], [1,1]])\n",
    "B = np.array([[-11,-10,16], [7,8,-11]])/9 #left inverse of A\n",
    "C = np.array([[0,-1,6], [0,1,-4]])/2 #Another left inverse of A\n",
    "#Let's check\n",
    "B @ A"
   ]
  },
  {
   "cell_type": "code",
   "execution_count": 95,
   "metadata": {},
   "outputs": [
    {
     "data": {
      "text/plain": [
       "array([[1., 0.],\n",
       "       [0., 1.]])"
      ]
     },
     "execution_count": 95,
     "metadata": {},
     "output_type": "execute_result"
    }
   ],
   "source": [
    "C @ A"
   ]
  },
  {
   "cell_type": "markdown",
   "metadata": {},
   "source": [
    "Kode di atas melakukan pengecekan apakah matriks A adalah invers dari matriks B dan C adlah invers dari matriks A."
   ]
  },
  {
   "cell_type": "markdown",
   "metadata": {},
   "source": [
    "## Inverse"
   ]
  },
  {
   "cell_type": "code",
   "execution_count": 96,
   "metadata": {},
   "outputs": [
    {
     "data": {
      "text/plain": [
       "array([[-2.77555756e-17, -5.00000000e-01, -2.50000000e-01],\n",
       "       [-2.00000000e-01,  2.00000000e-01, -5.00000000e-02],\n",
       "       [ 2.00000000e-01,  3.00000000e-01,  5.00000000e-02]])"
      ]
     },
     "execution_count": 96,
     "metadata": {},
     "output_type": "execute_result"
    }
   ],
   "source": [
    "A = np.array([[1,-2,3], [0,2,2], [-4,-4, -4]])\n",
    "B = np.linalg.inv(A)\n",
    "B"
   ]
  },
  {
   "cell_type": "code",
   "execution_count": 97,
   "metadata": {},
   "outputs": [
    {
     "data": {
      "text/plain": [
       "array([[1.00000000e+00, 0.00000000e+00, 0.00000000e+00],\n",
       "       [0.00000000e+00, 1.00000000e+00, 2.77555756e-17],\n",
       "       [0.00000000e+00, 5.55111512e-17, 1.00000000e+00]])"
      ]
     },
     "execution_count": 97,
     "metadata": {},
     "output_type": "execute_result"
    }
   ],
   "source": [
    "B @ A"
   ]
  },
  {
   "cell_type": "code",
   "execution_count": 98,
   "metadata": {},
   "outputs": [
    {
     "data": {
      "text/plain": [
       "array([[ 1.00000000e+00,  1.11022302e-16, -1.38777878e-17],\n",
       "       [ 5.55111512e-17,  1.00000000e+00,  1.38777878e-17],\n",
       "       [ 0.00000000e+00, -2.22044605e-16,  1.00000000e+00]])"
      ]
     },
     "execution_count": 98,
     "metadata": {},
     "output_type": "execute_result"
    }
   ],
   "source": [
    "A @ B"
   ]
  },
  {
   "cell_type": "markdown",
   "metadata": {},
   "source": [
    "Untuk menghasilkan inverse dari matriks A, bisa dilakukan dengan menggunakan method invers() yang terdapat pada module numpy."
   ]
  },
  {
   "cell_type": "markdown",
   "metadata": {},
   "source": [
    "### Dual basis"
   ]
  },
  {
   "cell_type": "code",
   "execution_count": 99,
   "metadata": {},
   "outputs": [
    {
     "name": "stdout",
     "output_type": "stream",
     "text": [
      "[ 0.2 -0.3  1.2]\n"
     ]
    }
   ],
   "source": [
    "A = np.array([[1,0,1], [4,-3,-4], [1,-1,-2]])\n",
    "B = np.linalg.inv(A)\n",
    "x = np.array([0.2,-0.3,1.2])\n",
    "RHS = (B[0,:]@x) * A[:,0] + (B[1,:]@x) * A[:,1] + (B[2,:]@x) * A[:,2]\n",
    "print(RHS)"
   ]
  },
  {
   "cell_type": "markdown",
   "metadata": {},
   "source": [
    "Untuk menentukan dual basis dari suatu matriks dapat dilakukan dengan menggunakan cara di atas."
   ]
  },
  {
   "cell_type": "markdown",
   "metadata": {},
   "source": [
    "### Inverse via QR factorization"
   ]
  },
  {
   "cell_type": "markdown",
   "metadata": {},
   "source": [
    "Dalam menentukan inverse dari suatu matriks bisa juga dengan menggunakan QR factorization yang di transpose. Di bawah ini merupakan contoh penggunannya."
   ]
  },
  {
   "cell_type": "code",
   "execution_count": 100,
   "metadata": {},
   "outputs": [
    {
     "data": {
      "text/plain": [
       "array([[ 0.48123914,  1.25559865,  0.97407899],\n",
       "       [ 1.23686471, -0.47264976, -0.42995553],\n",
       "       [-0.70584529, -1.23120831, -0.18353831]])"
      ]
     },
     "execution_count": 100,
     "metadata": {},
     "output_type": "execute_result"
    }
   ],
   "source": [
    "A = np.random.normal(size = (3,3))\n",
    "np.linalg.inv(A)"
   ]
  },
  {
   "cell_type": "code",
   "execution_count": 101,
   "metadata": {},
   "outputs": [
    {
     "data": {
      "text/plain": [
       "array([[[ 0.48123914,  1.25559865,  0.97407899],\n",
       "        [ 1.23686471, -0.47264976, -0.42995553],\n",
       "        [-0.70584529, -1.23120831, -0.18353831]],\n",
       "\n",
       "       [[ 0.48123914,  1.25559865,  0.97407899],\n",
       "        [ 1.23686471, -0.47264976, -0.42995553],\n",
       "        [-0.70584529, -1.23120831, -0.18353831]]])"
      ]
     },
     "execution_count": 101,
     "metadata": {},
     "output_type": "execute_result"
    }
   ],
   "source": [
    "Q,R = QR_factorization(A)\n",
    "np.linalg.inv(R) @ Q.T"
   ]
  },
  {
   "cell_type": "markdown",
   "metadata": {},
   "source": [
    "## Solving linear equations"
   ]
  },
  {
   "cell_type": "markdown",
   "metadata": {},
   "source": [
    "### Back substitution"
   ]
  },
  {
   "cell_type": "code",
   "execution_count": 103,
   "metadata": {},
   "outputs": [
    {
     "data": {
      "text/plain": [
       "0.0"
      ]
     },
     "execution_count": 103,
     "metadata": {},
     "output_type": "execute_result"
    }
   ],
   "source": [
    "def back_subst(R,b_tilde):\n",
    "    n = R.shape[0]\n",
    "    x = np.zeros(n)\n",
    "    for i in reversed(range(n)):\n",
    "        x[i] = b_tilde[i]\n",
    "        for j in range(i+1,n):\n",
    "            x[i] = x[i] - R[i,j]*x[j]\n",
    "        x[i] = x[i]/R[i,i]\n",
    "    return x\n",
    "R = np.triu(np.random.random((4,4)))\n",
    "b = np.random.random(4)\n",
    "x = back_subst(R,b)\n",
    "np.linalg.norm(R @ x - b)"
   ]
  },
  {
   "cell_type": "markdown",
   "metadata": {},
   "source": [
    "Fungsi back_subst() berfungsi untuk mencari solusi x dari persamaan Ax = b"
   ]
  },
  {
   "cell_type": "markdown",
   "metadata": {},
   "source": [
    "### Solving system of linear equations"
   ]
  },
  {
   "cell_type": "markdown",
   "metadata": {},
   "source": [
    "Dengan memanfaatkan fungsi gram_schmidt(), QR_factorization(), dan back_subst() dapat dilakukan penyelesaian suatu sistem persamaan linear."
   ]
  },
  {
   "cell_type": "code",
   "execution_count": 105,
   "metadata": {},
   "outputs": [],
   "source": [
    "def solve_via_backsub(A,b):\n",
    "    Q,R = QR_factorization(A)\n",
    "    b_tilde = Q.T @ b\n",
    "    x = back_subst(R,b_tilde)\n",
    "    return x"
   ]
  },
  {
   "cell_type": "markdown",
   "metadata": {},
   "source": [
    "Selain menggunakan fungsi di atas dapat juga dengan menggunakan method linalg.solve() yang terdapat pada module numpy. Di bawah ini merupakan perbandingan dari kedua cara yang dapat dilakukan."
   ]
  },
  {
   "cell_type": "code",
   "execution_count": 106,
   "metadata": {},
   "outputs": [
    {
     "name": "stdout",
     "output_type": "stream",
     "text": [
      "3.6243099463494494e-08\n",
      "1.3173413276672363\n"
     ]
    }
   ],
   "source": [
    "import time\n",
    "n = 5000\n",
    "A = np.random.normal(size = (n,n))\n",
    "b = np.random.normal(size = n)\n",
    "start = time.time()\n",
    "x1 = np.linalg.solve(A,b)\n",
    "end = time.time()\n",
    "print(np.linalg.norm(b - A @ x1))\n",
    "print(end - start)"
   ]
  },
  {
   "cell_type": "code",
   "execution_count": 107,
   "metadata": {},
   "outputs": [
    {
     "name": "stdout",
     "output_type": "stream",
     "text": [
      "3.4045013867485245e-08\n",
      "2.837257146835327\n"
     ]
    }
   ],
   "source": [
    "start = time.time()\n",
    "x2 = np.linalg.inv(A) @ b\n",
    "end = time.time()\n",
    "print(np.linalg.norm(b - A @ x2))\n",
    "print(end - start)"
   ]
  },
  {
   "cell_type": "markdown",
   "metadata": {},
   "source": [
    "Terlihat bahwa dengan menggunakan lngal.solve() lebih cepat."
   ]
  },
  {
   "cell_type": "markdown",
   "metadata": {},
   "source": [
    "## Pseudo-inverse"
   ]
  },
  {
   "cell_type": "code",
   "execution_count": 108,
   "metadata": {},
   "outputs": [
    {
     "data": {
      "text/plain": [
       "array([[ 5.09901951,  7.256297  ],\n",
       "       [ 0.        , -0.58834841]])"
      ]
     },
     "execution_count": 108,
     "metadata": {},
     "output_type": "execute_result"
    }
   ],
   "source": [
    "A = np.array([[-3,-4],[4,6],[1,1]])\n",
    "np.linalg.pinv(A)\n",
    "Q, R = np.linalg.qr(A)\n",
    "R"
   ]
  },
  {
   "cell_type": "code",
   "execution_count": 109,
   "metadata": {},
   "outputs": [
    {
     "data": {
      "text/plain": [
       "array([[-1.22222222, -1.11111111,  1.77777778],\n",
       "       [ 0.77777778,  0.88888889, -1.22222222]])"
      ]
     },
     "execution_count": 109,
     "metadata": {},
     "output_type": "execute_result"
    }
   ],
   "source": [
    "np.linalg.solve(R,Q.T)"
   ]
  },
  {
   "cell_type": "markdown",
   "metadata": {},
   "source": [
    "Dalam modul numpy terdapat method pinv() yang digunakan untuk menghasilkan pseudo inverse dari suatu matriks."
   ]
  }
 ],
 "metadata": {
  "interpreter": {
   "hash": "af2dc65967692050cab8e66feb265a08b4036dabf5bf167c8e1e4da3fe6ea63e"
  },
  "kernelspec": {
   "display_name": "Python 3.8.8 64-bit ('base': conda)",
   "name": "python3"
  },
  "language_info": {
   "codemirror_mode": {
    "name": "ipython",
    "version": 3
   },
   "file_extension": ".py",
   "mimetype": "text/x-python",
   "name": "python",
   "nbconvert_exporter": "python",
   "pygments_lexer": "ipython3",
   "version": "3.8.8"
  },
  "orig_nbformat": 4
 },
 "nbformat": 4,
 "nbformat_minor": 2
}
