{
 "cells": [
  {
   "cell_type": "markdown",
   "source": [
    "# **Vektor**\r\n",
    "Dalam bahasa Python cara paling sederhana dalam mempresentasikan vektor adalah dengan menggunakan data struktur _list_. Untuk mendefinisikan _list_ digunakan kurung siku dan tanda baca koma untuk memisahkan elemen dalam vektor. Berikut ini merupakan contoh dari _list_:"
   ],
   "metadata": {}
  },
  {
   "cell_type": "code",
   "execution_count": 1,
   "source": [
    "x = [-1.1, 0.0, 3.6, -7.2]\r\n",
    "len(x)"
   ],
   "outputs": [
    {
     "output_type": "execute_result",
     "data": {
      "text/plain": [
       "4"
      ]
     },
     "metadata": {},
     "execution_count": 1
    }
   ],
   "metadata": {}
  },
  {
   "cell_type": "markdown",
   "source": [
    "Terlihat pada contoh diatas, kita memiliki sebuah _list_ yang berisikan 4 buah angka. Fungsi dari len(x) sendiri adalah untuk menghitung panjang dari _list_ x. "
   ],
   "metadata": {}
  },
  {
   "cell_type": "code",
   "execution_count": 2,
   "source": [
    "x = [-1.1 0.0 3.6 -7.2]"
   ],
   "outputs": [
    {
     "output_type": "error",
     "ename": "SyntaxError",
     "evalue": "invalid syntax (<ipython-input-2-51279bf4b74a>, line 1)",
     "traceback": [
      "\u001b[1;36m  File \u001b[1;32m\"<ipython-input-2-51279bf4b74a>\"\u001b[1;36m, line \u001b[1;32m1\u001b[0m\n\u001b[1;33m    x = [-1.1 0.0 3.6 -7.2]\u001b[0m\n\u001b[1;37m              ^\u001b[0m\n\u001b[1;31mSyntaxError\u001b[0m\u001b[1;31m:\u001b[0m invalid syntax\n"
     ]
    }
   ],
   "metadata": {}
  },
  {
   "cell_type": "markdown",
   "source": [
    "Kode di atas mengalami error ketika dijalankan karena tidak menggunakan tanda koma sebagai pemisah antara elemen."
   ],
   "metadata": {}
  },
  {
   "cell_type": "code",
   "execution_count": 3,
   "source": [
    "y = (1, 2)\r\n",
    "y"
   ],
   "outputs": [
    {
     "output_type": "execute_result",
     "data": {
      "text/plain": [
       "(1, 2)"
      ]
     },
     "metadata": {},
     "execution_count": 3
    }
   ],
   "metadata": {}
  },
  {
   "cell_type": "markdown",
   "source": [
    "Contoh di atas merupakan contoh dari penggunaan tuple. Tuple dapat digunakan untuk mepresentasikan skalar. Berbeda dengan _list_ yang elemennya dapat diubah sewaktu-waktu, tuple ini tidak dapat diubah."
   ],
   "metadata": {}
  },
  {
   "cell_type": "code",
   "execution_count": 4,
   "source": [
    "import numpy as np\r\n",
    "x = np.array([-1.1, 0.0, 3.6, -7.2])\r\n",
    "len(x)"
   ],
   "outputs": [
    {
     "output_type": "execute_result",
     "data": {
      "text/plain": [
       "4"
      ]
     },
     "metadata": {},
     "execution_count": 4
    }
   ],
   "metadata": {}
  },
  {
   "cell_type": "markdown",
   "source": [
    "Selain menggunakan _list_, kita juga dapat menggunakan numpy array untuk menpresentasikan vektor. Sebelum menggunakan numpy array diwajibkan untuk meng-import library numpy terlebih dahulu, seperti yang terdapat pada baris pertama. Keyword **_as np_** sendiri digunakan untuk memberikan alias pada nama library. Untuk penggunaannya cukup dengan menuliskan _np.array(<list>)_.\r\n",
    "\r\n",
    "Perbedaan mendasar dari _list_ dan numpy adalah\r\n",
    "- Numpy menggunakan memory lebih sedikit.\r\n",
    "- Performa numpy lebih cepat ketimbang _list_.\r\n",
    "- Terdapat built-in function dalam array numpy yang dapat digunakan dalam linear algebra."
   ],
   "metadata": {}
  },
  {
   "cell_type": "code",
   "execution_count": 5,
   "source": [
    "x = np.array([-1.1, 0.0, 3.6, -7.2])\r\n",
    "x[2]"
   ],
   "outputs": [
    {
     "output_type": "execute_result",
     "data": {
      "text/plain": [
       "3.6"
      ]
     },
     "metadata": {},
     "execution_count": 5
    }
   ],
   "metadata": {}
  },
  {
   "cell_type": "markdown",
   "source": [
    "Untuk mengakses elemen pada vektor/numpy array dapat digunakan operator tanda kurung siku ([<index>]). Pengindeksan dalam numpy array dimulai dari 0."
   ],
   "metadata": {}
  },
  {
   "cell_type": "code",
   "execution_count": 6,
   "source": [
    "x[2] = 20.0\r\n",
    "x"
   ],
   "outputs": [
    {
     "output_type": "execute_result",
     "data": {
      "text/plain": [
       "array([-1.1,  0. , 20. , -7.2])"
      ]
     },
     "metadata": {},
     "execution_count": 6
    }
   ],
   "metadata": {}
  },
  {
   "cell_type": "markdown",
   "source": [
    "Elemen dalam vektor/numpy array juga dapat diubah dengan cara menggunakan operator = seperti pada contoh diatas."
   ],
   "metadata": {}
  },
  {
   "cell_type": "code",
   "execution_count": 7,
   "source": [
    "x[-1]"
   ],
   "outputs": [
    {
     "output_type": "execute_result",
     "data": {
      "text/plain": [
       "-7.2"
      ]
     },
     "metadata": {},
     "execution_count": 7
    }
   ],
   "metadata": {}
  },
  {
   "cell_type": "markdown",
   "source": [
    "Berbeda dengan bahasa lainnya yang hanya bisa mengakses suatu array dengan index positif, pada bahasa Python pengaksesan index dapat dilakukan dengan menggunakan index negatif. Pengaksesan array dengan index negatif mengambil elemen dari sebelah kanan. Contohnya seperti pada hasil output kode diatas. Ketika diinputkan index **-1** maka akan mengeluarkan elemen paling kanan/terakhir dalam array x, yaitu **-7.2**."
   ],
   "metadata": {}
  },
  {
   "cell_type": "markdown",
   "source": [
    "## **_Assignment versus copying_**"
   ],
   "metadata": {}
  },
  {
   "cell_type": "code",
   "execution_count": 8,
   "source": [
    "x = np.array([-1.1, 0.0, 3.6, -7.2])\r\n",
    "y = x.copy()\r\n",
    "x[2] = 20.0\r\n",
    "y"
   ],
   "outputs": [
    {
     "output_type": "execute_result",
     "data": {
      "text/plain": [
       "array([-1.1,  0. ,  3.6, -7.2])"
      ]
     },
     "metadata": {},
     "execution_count": 8
    }
   ],
   "metadata": {}
  },
  {
   "cell_type": "markdown",
   "source": [
    "Ketika ingin menyalin suatu vektor/numpy array diharuskan menggunakan method _copy()_ yang terdapat dalam objek ndarray. Dengan menggunakan method ini objek ndarray akan diduplikasi sehingga ketika terdapat perubahan elemen pada salah satu objek, tidak akan mempengaruhi objek yang lainnya. Di bawah ini merupakan contoh ketika tidak menggunakan method _copy()_ melainkan menggunakan operator =."
   ],
   "metadata": {}
  },
  {
   "cell_type": "code",
   "execution_count": 9,
   "source": [
    "x = np.array([-1.1, 0.0, 3.6, -7.2])\r\n",
    "y = x\r\n",
    "x[2] = 20.0\r\n",
    "y"
   ],
   "outputs": [
    {
     "output_type": "execute_result",
     "data": {
      "text/plain": [
       "array([-1.1,  0. , 20. , -7.2])"
      ]
     },
     "metadata": {},
     "execution_count": 9
    }
   ],
   "metadata": {}
  },
  {
   "cell_type": "markdown",
   "source": [
    "Terlihat pada hasil output di atas. Ketika elemen ketiga pada vektor x diubah menjadi 20, elemen ketiga pada vektor y juga ikut berubah."
   ],
   "metadata": {}
  },
  {
   "cell_type": "markdown",
   "source": [
    "## **_Vector Equality_**"
   ],
   "metadata": {}
  },
  {
   "cell_type": "markdown",
   "source": [
    "Untuk membandingkan dua vektor dapat digunakan operator **==** _(double equal signs)_. Ketika dua vektor sama maka Python akan me-return boolean bernilai *True* sedangkan *False* untuk sebaliknya.\r\n",
    "\r\n",
    "Perbangingan dua vektor yang menggunakan numpy array dan _list_ memiliki perbedaan. Jika menggunakan numpy array, perbandingan dilakukan pada tiap-tiap elemen sehingga hasil berupa array yang berisikan boolean berurutan. Sedangkan jika menggunakan _list_, perbandingan dilakukan secara keseluruhan sehingga output yang dihasilkan beruka satu boolean."
   ],
   "metadata": {}
  },
  {
   "cell_type": "code",
   "execution_count": 10,
   "source": [
    "x = np.array([-1.1, 0.0, 3.6, -7.2])\r\n",
    "y = x.copy()\r\n",
    "x == y"
   ],
   "outputs": [
    {
     "output_type": "execute_result",
     "data": {
      "text/plain": [
       "array([ True,  True,  True,  True])"
      ]
     },
     "metadata": {},
     "execution_count": 10
    }
   ],
   "metadata": {}
  },
  {
   "cell_type": "markdown",
   "source": [
    "Dapat dilihat pada hasil output di atas. Karena x dan y tidak mengalami perubahan maka Python akan me-return array berisikan nilai *True*."
   ],
   "metadata": {}
  },
  {
   "cell_type": "code",
   "execution_count": 11,
   "source": [
    "x = np.array([-1.1, 0.0, 3.6, -7.2])\r\n",
    "y = x.copy()\r\n",
    "y[3] = 9.0\r\n",
    "x == y"
   ],
   "outputs": [
    {
     "output_type": "execute_result",
     "data": {
      "text/plain": [
       "array([ True,  True,  True, False])"
      ]
     },
     "metadata": {},
     "execution_count": 11
    }
   ],
   "metadata": {}
  },
  {
   "cell_type": "markdown",
   "source": [
    "Berbeda dengan contoh sebelumnya, pada contoh di atas elemen keempat pada vektor y diubah menjadi 9. Sehingga nilai elemen keempat pada output bernilai *False*."
   ],
   "metadata": {}
  },
  {
   "cell_type": "code",
   "execution_count": 12,
   "source": [
    "x = [-1.1, 0.0, 3.6, -7.2]\r\n",
    "y = x.copy()\r\n",
    "x == y"
   ],
   "outputs": [
    {
     "output_type": "execute_result",
     "data": {
      "text/plain": [
       "True"
      ]
     },
     "metadata": {},
     "execution_count": 12
    }
   ],
   "metadata": {}
  },
  {
   "cell_type": "code",
   "execution_count": 13,
   "source": [
    "x = [-1.1, 0.0, 3.6, -7.2]\r\n",
    "y = x.copy()\r\n",
    "y[3] = 9.0\r\n",
    "x == y\r\n"
   ],
   "outputs": [
    {
     "output_type": "execute_result",
     "data": {
      "text/plain": [
       "False"
      ]
     },
     "metadata": {},
     "execution_count": 13
    }
   ],
   "metadata": {}
  },
  {
   "cell_type": "markdown",
   "source": [
    "Seperti yang sudah dijelaskan sebelumnya, perbandingan vektor yang dibuat menggunakan _list_ dibandingkan secara keseleruhan. Seperti contoh di atas, ketika salah satu elemen berbeda maka hasil outpunya **False**. Dengan output seperti ini kita akan kesulitan untuk menentukan elemen mana yang berbeda."
   ],
   "metadata": {}
  },
  {
   "cell_type": "markdown",
   "source": [
    "## **_Scalars versun 1-vectors_**"
   ],
   "metadata": {}
  },
  {
   "cell_type": "markdown",
   "source": [
    "Suatu vektor yang berisikan hanya satu nilai dapat disebut sebagai skalar. Tetapi dalam bahasa Python, _list_ tidak sama dengan skalar. Seperti pada contoh dibawah ini. Ketika skalar dibandingkan dengan _list_ yang berisi satu nilai, hasil outputnya akan bernilai **False**."
   ],
   "metadata": {}
  },
  {
   "cell_type": "code",
   "execution_count": 14,
   "source": [
    "x = 2.4\r\n",
    "y = [2.4]\r\n",
    "x == y"
   ],
   "outputs": [
    {
     "output_type": "execute_result",
     "data": {
      "text/plain": [
       "False"
      ]
     },
     "metadata": {},
     "execution_count": 14
    }
   ],
   "metadata": {}
  },
  {
   "cell_type": "code",
   "execution_count": 15,
   "source": [
    "y[0] == 2.4"
   ],
   "outputs": [
    {
     "output_type": "execute_result",
     "data": {
      "text/plain": [
       "True"
      ]
     },
     "metadata": {},
     "execution_count": 15
    }
   ],
   "metadata": {}
  },
  {
   "cell_type": "markdown",
   "source": [
    "Agar perbandingan bernilai **True** maka perlu untuk mengakses elemen pertama secara eksplisit."
   ],
   "metadata": {}
  },
  {
   "cell_type": "code",
   "execution_count": 16,
   "source": [
    "x = 2.4\r\n",
    "y = np.array([2.4])\r\n",
    "x == y"
   ],
   "outputs": [
    {
     "output_type": "execute_result",
     "data": {
      "text/plain": [
       "array([ True])"
      ]
     },
     "metadata": {},
     "execution_count": 16
    }
   ],
   "metadata": {}
  },
  {
   "cell_type": "markdown",
   "source": [
    "Dengan menggunakan numpy array perbandingan dapat dilakukan tanpa mengakses elemen pertama, cukup dengan membandingkan kedua variabel secara langsung."
   ],
   "metadata": {}
  },
  {
   "cell_type": "markdown",
   "source": [
    "## **_Block and Stacked Vectors_**"
   ],
   "metadata": {}
  },
  {
   "cell_type": "markdown",
   "source": [
    "Dalam Python kita dapat menggabungkan dua buah vektor menjadi satu yaitu dengan menggunakan method _concatenate()_. Di bawah ini merupakan contoh dari penggunaan method _concatenate()_."
   ],
   "metadata": {}
  },
  {
   "cell_type": "code",
   "execution_count": 17,
   "source": [
    "x = np.array([1, -2])\r\n",
    "y = np.array([1,1,0])\r\n",
    "np.concatenate((x,y))"
   ],
   "outputs": [
    {
     "output_type": "execute_result",
     "data": {
      "text/plain": [
       "array([ 1, -2,  1,  1,  0])"
      ]
     },
     "metadata": {},
     "execution_count": 17
    }
   ],
   "metadata": {}
  },
  {
   "cell_type": "markdown",
   "source": [
    "## **_Subvectors and Slicing_**"
   ],
   "metadata": {}
  },
  {
   "cell_type": "code",
   "execution_count": 18,
   "source": [
    "x = np.array([1,8,3,2,1,9,7])\r\n",
    "x[1:4]"
   ],
   "outputs": [
    {
     "output_type": "execute_result",
     "data": {
      "text/plain": [
       "array([8, 3, 2])"
      ]
     },
     "metadata": {},
     "execution_count": 18
    }
   ],
   "metadata": {}
  },
  {
   "cell_type": "markdown",
   "source": [
    "Digunakan [a:b] untuk mengiris suatu vektor. Pengirisan dilakukan dari index _a_ ke index _b-1_."
   ],
   "metadata": {}
  },
  {
   "cell_type": "code",
   "execution_count": 19,
   "source": [
    "x[3:6] = [100,200,300]\r\n",
    "x"
   ],
   "outputs": [
    {
     "output_type": "execute_result",
     "data": {
      "text/plain": [
       "array([  1,   8,   3, 100, 200, 300,   7])"
      ]
     },
     "metadata": {},
     "execution_count": 19
    }
   ],
   "metadata": {}
  },
  {
   "cell_type": "markdown",
   "source": [
    "Selain digunakan untuk mengiris vektor, [a:b] juga dapat digunakan untuk menambahkan/mengubah element array."
   ],
   "metadata": {}
  },
  {
   "cell_type": "code",
   "execution_count": 20,
   "source": [
    "x = np.array([1,8,3,2,1,9,7])\r\n",
    "x[2:]"
   ],
   "outputs": [
    {
     "output_type": "execute_result",
     "data": {
      "text/plain": [
       "array([3, 2, 1, 9, 7])"
      ]
     },
     "metadata": {},
     "execution_count": 20
    }
   ],
   "metadata": {}
  },
  {
   "cell_type": "code",
   "execution_count": 21,
   "source": [
    "x[:-1]"
   ],
   "outputs": [
    {
     "output_type": "execute_result",
     "data": {
      "text/plain": [
       "array([1, 8, 3, 2, 1, 9])"
      ]
     },
     "metadata": {},
     "execution_count": 21
    }
   ],
   "metadata": {}
  },
  {
   "cell_type": "code",
   "execution_count": 22,
   "source": [
    "x = np.array([1,8,3,2,1,9,7])\r\n",
    "x[1:] - x[:-1]"
   ],
   "outputs": [
    {
     "output_type": "execute_result",
     "data": {
      "text/plain": [
       "array([ 7, -5, -1, -1,  8, -2])"
      ]
     },
     "metadata": {},
     "execution_count": 22
    }
   ],
   "metadata": {}
  },
  {
   "cell_type": "markdown",
   "source": [
    "Jika nilai a atau b pada [a:b] dikosongkan maka akan diisi dengan 0 dan b dengan panjang array."
   ],
   "metadata": {}
  },
  {
   "cell_type": "code",
   "execution_count": 23,
   "source": [
    "x[1:4:2]"
   ],
   "outputs": [
    {
     "output_type": "execute_result",
     "data": {
      "text/plain": [
       "array([8, 2])"
      ]
     },
     "metadata": {},
     "execution_count": 23
    }
   ],
   "metadata": {}
  },
  {
   "cell_type": "markdown",
   "source": [
    "Kita juga dapat mengakses suatu element dengan interval tertentu. Seperti pada contoh diatas. [1:4:2] angka 1 merupakan index awal, 4 index terakhir dan 2 merupakan interval."
   ],
   "metadata": {}
  },
  {
   "cell_type": "code",
   "execution_count": 24,
   "source": [
    "x[::-1]"
   ],
   "outputs": [
    {
     "output_type": "execute_result",
     "data": {
      "text/plain": [
       "array([7, 9, 1, 2, 3, 8, 1])"
      ]
     },
     "metadata": {},
     "execution_count": 24
    }
   ],
   "metadata": {}
  },
  {
   "cell_type": "markdown",
   "source": [
    "Untuk membalik nilai pada vektor dapat digunakan cara seperti di atas."
   ],
   "metadata": {}
  },
  {
   "cell_type": "markdown",
   "source": [
    "## **_List of Vectors_**"
   ],
   "metadata": {}
  },
  {
   "cell_type": "code",
   "execution_count": 25,
   "source": [
    "x = [1,0]\r\n",
    "y = [1,-1]\r\n",
    "z = [0,1]\r\n",
    "list_of_vectors = [x,y,z]\r\n",
    "list_of_vectors[1] #Second element of list"
   ],
   "outputs": [
    {
     "output_type": "execute_result",
     "data": {
      "text/plain": [
       "[1, -1]"
      ]
     },
     "metadata": {},
     "execution_count": 25
    }
   ],
   "metadata": {}
  },
  {
   "cell_type": "markdown",
   "source": [
    "Suatu _list_ dapat berisikan _list_. Dengan mengisikan _list_ di dalam _list_ maka akan terbentuk vektor 2D. jika vektor 2D diisikan _list_ akan terbentuk vektor 3D dan seterusnya. Seperti pada contoh diatas yang merupakan vektor 2D."
   ],
   "metadata": {}
  },
  {
   "cell_type": "code",
   "execution_count": 26,
   "source": [
    "list_of_vectors[1][0] #First entry in second element of list"
   ],
   "outputs": [
    {
     "output_type": "execute_result",
     "data": {
      "text/plain": [
       "1"
      ]
     },
     "metadata": {},
     "execution_count": 26
    }
   ],
   "metadata": {}
  },
  {
   "cell_type": "markdown",
   "source": [
    "Untuk mengakses vektor 2D, kita bisa menggunakan indeks [x][y]. Dengan x dan y adalah indeks baris dan kolom."
   ],
   "metadata": {}
  },
  {
   "cell_type": "markdown",
   "source": [
    "## **_Zero Vectors_**"
   ],
   "metadata": {}
  },
  {
   "cell_type": "code",
   "execution_count": 27,
   "source": [
    "np.zeros(3)"
   ],
   "outputs": [
    {
     "output_type": "execute_result",
     "data": {
      "text/plain": [
       "array([0., 0., 0.])"
      ]
     },
     "metadata": {},
     "execution_count": 27
    }
   ],
   "metadata": {}
  },
  {
   "cell_type": "markdown",
   "source": [
    "Kode di atas menghasilkan array dengan 3 elemen yang semua elemennya 0. Untuk melakukannya cukup dengan menggunakan fungsi np.zeros()."
   ],
   "metadata": {}
  },
  {
   "cell_type": "code",
   "execution_count": 28,
   "source": [
    "z = [0] * 3"
   ],
   "outputs": [],
   "metadata": {}
  },
  {
   "cell_type": "markdown",
   "source": [
    "Jika ingin membuat vektor 0 dengan menggunakan _list_ bisa menggunakan cara seperti di atas."
   ],
   "metadata": {}
  },
  {
   "cell_type": "markdown",
   "source": [
    "## **_Unit Vectors_**"
   ],
   "metadata": {}
  },
  {
   "cell_type": "code",
   "execution_count": 29,
   "source": [
    "i = 2\r\n",
    "n = 4\r\n",
    "x = np.zeros(n)\r\n",
    "x[i] = 1\r\n",
    "x"
   ],
   "outputs": [
    {
     "output_type": "execute_result",
     "data": {
      "text/plain": [
       "array([0., 0., 1., 0.])"
      ]
     },
     "metadata": {},
     "execution_count": 29
    }
   ],
   "metadata": {}
  },
  {
   "cell_type": "markdown",
   "source": [
    "Kita dapat membuat unit vektor dengan membuat vektor 0 lalu diubah menjadi 1 pada indeks yang kita inginkan."
   ],
   "metadata": {}
  },
  {
   "cell_type": "markdown",
   "source": [
    "## **_Ones Vector_**"
   ],
   "metadata": {}
  },
  {
   "cell_type": "code",
   "execution_count": 30,
   "source": [
    "np.ones(3)"
   ],
   "outputs": [
    {
     "output_type": "execute_result",
     "data": {
      "text/plain": [
       "array([1., 1., 1.])"
      ]
     },
     "metadata": {},
     "execution_count": 30
    }
   ],
   "metadata": {}
  },
  {
   "cell_type": "markdown",
   "source": [
    "Fungsi np.ones(n) digunakan untuk membuat sebuah array yang berisi n elemen yang berisi 1. Seperti pada contoh di atas n = 3, maka hasilnya adalah [1,1,1]."
   ],
   "metadata": {}
  },
  {
   "cell_type": "markdown",
   "source": [
    "## **_Random Vectors_**"
   ],
   "metadata": {}
  },
  {
   "cell_type": "code",
   "execution_count": 31,
   "source": [
    "np.random.random(2)"
   ],
   "outputs": [
    {
     "output_type": "execute_result",
     "data": {
      "text/plain": [
       "array([0.50102055, 0.06693459])"
      ]
     },
     "metadata": {},
     "execution_count": 31
    }
   ],
   "metadata": {}
  },
  {
   "cell_type": "markdown",
   "source": [
    "Fungsi np.random.random(n) menghasilkan array dengan n elemen yang diisi dengan nilai random antara 0 dan 1. Jika ingin menghasilkan nilai dengan range tertentu, gunakan fungsi np.random.randint(a,b,n) dengan a dan b sebagai batas bawah dan batas atas, dan n sebagai jumlah elemen yang dihasilkan. Di bawah ini merupakan contoh dari penggunaan fungsi tersebut"
   ],
   "metadata": {}
  },
  {
   "cell_type": "code",
   "execution_count": 32,
   "source": [
    "np.random.randint(1,50,10)"
   ],
   "outputs": [
    {
     "output_type": "execute_result",
     "data": {
      "text/plain": [
       "array([36,  8, 27, 30, 16, 39, 13, 38, 48, 35])"
      ]
     },
     "metadata": {},
     "execution_count": 32
    }
   ],
   "metadata": {}
  },
  {
   "cell_type": "markdown",
   "source": [
    "## **_Plotting_**"
   ],
   "metadata": {}
  },
  {
   "cell_type": "markdown",
   "source": [
    "Terdapat banyak library untuk melakukan plotting salah satunya adalah matplotlib. Untuk menggunakan library ini, pertama kita harus meng-importnya. karena tidak semua bagian library dibutuhkan, maka kita bisa meng-importnya secara spesifik. Pada kasus ini kita menggunakan library matplotlib.pyplot. Seperti yang telah dijelaskan pada sebelumnya **as plt** adalah alias dari library matplotlib.pyplot."
   ],
   "metadata": {}
  },
  {
   "cell_type": "code",
   "execution_count": 33,
   "source": [
    "import matplotlib.pyplot as plt\r\n",
    "\r\n",
    "temps = [ 71, 71, 68, 69, 68, 69, 68, 74, 77, 82, 85, 86, 88, 86,\r\n",
    "85, 86, 84, 79, 77, 75, 73, 71, 70, 70, 69, 69, 69, 69, 67,\r\n",
    "68, 68, 73, 76, 77, 82, 84, 84, 81, 80, 78, 79, 78, 73, 72,\r\n",
    "70, 70, 68, 67 ]\r\n",
    "plt.plot(temps, '-bo')\r\n",
    "plt.savefig('temperature.pdf', format = 'pdf')\r\n",
    "plt.show()"
   ],
   "outputs": [
    {
     "output_type": "display_data",
     "data": {
      "image/png": "[encoded data removed]",
      "text/plain": [
       "<Figure size 432x288 with 1 Axes>"
      ]
     },
     "metadata": {
      "needs_background": "light"
     }
    }
   ],
   "metadata": {}
  },
  {
   "cell_type": "markdown",
   "source": [
    "Di atas merupakan contoh kode untuk membuat grafik dari _list_ yang diberikan. Pertama, kita membuat _list_ temps yang berisi data temperatur dari berbagai bulan. Kemudian, kita membuat grafik dari data tersebut dengan menggunakan fungsi plot. Setelah itu, kita menyimpan grafik tersebut dengan menggunakan fungsi savefig. Kemudian, kita menampilkan grafik tersebut dengan menggunakan fungsi show."
   ],
   "metadata": {}
  }
 ],
 "metadata": {
  "orig_nbformat": 4,
  "language_info": {
   "name": "python",
   "version": "3.8.8",
   "mimetype": "text/x-python",
   "codemirror_mode": {
    "name": "ipython",
    "version": 3
   },
   "pygments_lexer": "ipython3",
   "nbconvert_exporter": "python",
   "file_extension": ".py"
  },
  "kernelspec": {
   "name": "python3",
   "display_name": "Python 3.8.8 64-bit ('base': conda)"
  },
  "interpreter": {
   "hash": "af2dc65967692050cab8e66feb265a08b4036dabf5bf167c8e1e4da3fe6ea63e"
  }
 },
 "nbformat": 4,
 "nbformat_minor": 2
}