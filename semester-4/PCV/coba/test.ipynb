{
 "cells": [
  {
   "cell_type": "code",
   "execution_count": 1,
   "metadata": {},
   "outputs": [],
   "source": [
    "import cv2\n",
    "import numpy as np"
   ]
  },
  {
   "cell_type": "code",
   "execution_count": 3,
   "metadata": {},
   "outputs": [],
   "source": [
    "image = cv2.imread('background.jpg')\n",
    "video = cv2.VideoCapture('green screen cat.mp4')\n"
   ]
  },
  {
   "cell_type": "code",
   "execution_count": 4,
   "metadata": {},
   "outputs": [
    {
     "ename": "KeyboardInterrupt",
     "evalue": "",
     "output_type": "error",
     "traceback": [
      "\u001b[1;31m---------------------------------------------------------------------------\u001b[0m",
      "\u001b[1;31mKeyboardInterrupt\u001b[0m                         Traceback (most recent call last)",
      "\u001b[1;32m<ipython-input-4-f521356d29bb>\u001b[0m in \u001b[0;36m<module>\u001b[1;34m\u001b[0m\n\u001b[0;32m     37\u001b[0m \u001b[1;33m\u001b[0m\u001b[0m\n\u001b[0;32m     38\u001b[0m \u001b[1;32mwhile\u001b[0m \u001b[1;32mTrue\u001b[0m\u001b[1;33m:\u001b[0m\u001b[1;33m\u001b[0m\u001b[1;33m\u001b[0m\u001b[0m\n\u001b[1;32m---> 39\u001b[1;33m     \u001b[0mret\u001b[0m\u001b[1;33m,\u001b[0m \u001b[0mframe\u001b[0m \u001b[1;33m=\u001b[0m \u001b[0mvideo\u001b[0m\u001b[1;33m.\u001b[0m\u001b[0mread\u001b[0m\u001b[1;33m(\u001b[0m\u001b[1;33m)\u001b[0m\u001b[1;33m\u001b[0m\u001b[1;33m\u001b[0m\u001b[0m\n\u001b[0m\u001b[0;32m     40\u001b[0m \u001b[1;33m\u001b[0m\u001b[0m\n\u001b[0;32m     41\u001b[0m     \u001b[0mhsv_low\u001b[0m \u001b[1;33m=\u001b[0m \u001b[0mnp\u001b[0m\u001b[1;33m.\u001b[0m\u001b[0marray\u001b[0m\u001b[1;33m(\u001b[0m\u001b[1;33m[\u001b[0m\u001b[0mH_low\u001b[0m\u001b[1;33m,\u001b[0m \u001b[0mS_low\u001b[0m\u001b[1;33m,\u001b[0m \u001b[0mV_low\u001b[0m\u001b[1;33m]\u001b[0m\u001b[1;33m,\u001b[0m \u001b[0mnp\u001b[0m\u001b[1;33m.\u001b[0m\u001b[0muint8\u001b[0m\u001b[1;33m)\u001b[0m\u001b[1;33m\u001b[0m\u001b[1;33m\u001b[0m\u001b[0m\n",
      "\u001b[1;31mKeyboardInterrupt\u001b[0m: "
     ]
    }
   ],
   "source": [
    "def callback(x):\n",
    "\tglobal H_low,H_high,S_low,S_high,V_low,V_high\n",
    "\t#assign trackbar position value to H,S,V High and low variable\n",
    "\tH_low = cv2.getTrackbarPos('low H','controls')\n",
    "\tH_high = cv2.getTrackbarPos('high H','controls')\n",
    "\tS_low = cv2.getTrackbarPos('low S','controls')\n",
    "\tS_high = cv2.getTrackbarPos('high S','controls')\n",
    "\tV_low = cv2.getTrackbarPos('low V','controls')\n",
    "\tV_high = cv2.getTrackbarPos('high V','controls')\n",
    "\n",
    "\n",
    "#create a seperate window named 'controls' for trackbar\n",
    "cv2.namedWindow('controls',2)\n",
    "cv2.resizeWindow(\"controls\", 550,10);\n",
    "\n",
    "\n",
    "#global variable\n",
    "H_low = 0\n",
    "H_high = 179\n",
    "S_low= 0\n",
    "S_high = 255\n",
    "V_low= 0\n",
    "V_high = 255\n",
    "\n",
    "#create trackbars for high,low H,S,V \n",
    "cv2.createTrackbar('low H','controls',0,179,callback)\n",
    "cv2.createTrackbar('high H','controls',179,179,callback)\n",
    "\n",
    "cv2.createTrackbar('low S','controls',0,255,callback)\n",
    "cv2.createTrackbar('high S','controls',255,255,callback)\n",
    "\n",
    "cv2.createTrackbar('low V','controls',0,255,callback)\n",
    "cv2.createTrackbar('high V','controls',255,255,callback)\n",
    "\n",
    "\n",
    "\n",
    "while True:\n",
    "    ret, frame = video.read()\n",
    "\n",
    "    hsv_low = np.array([H_low, S_low, V_low], np.uint8)\n",
    "    hsv_high = np.array([H_high, S_high, V_high], np.uint8)\n",
    "\n",
    "    hsv = cv2.cvtColor(frame, cv2.COLOR_BGR2HSV)\n",
    "\n",
    "    keyMask = cv2.inRange(hsv, hsv_low, hsv_high)\n",
    "    \n",
    "    output = cv2.bitwise_and(frame, frame, mask=keyMask)\n",
    "\n",
    "    # cv2.imshow('frame', frame)\n",
    "    if ret:\n",
    "        cv2.imshow('keyMask', keyMask)\n",
    "\n",
    "    else:\n",
    "        video.set(cv2.CAP_PROP_POS_FRAMES, 0)\n",
    "\n",
    "\n",
    "    # cv2.imshow('output', output)\n",
    "    \n",
    "    if cv2.waitKey(1) & 0xFF == ord('q'):\n",
    "        break\n",
    "\n",
    "cv2.destroyAllWindows()"
   ]
  },
  {
   "cell_type": "code",
   "execution_count": 5,
   "metadata": {},
   "outputs": [
    {
     "ename": "NameError",
     "evalue": "name 'H_low' is not defined",
     "output_type": "error",
     "traceback": [
      "\u001b[1;31m---------------------------------------------------------------------------\u001b[0m",
      "\u001b[1;31mNameError\u001b[0m                                 Traceback (most recent call last)",
      "\u001b[1;32m<ipython-input-5-c7b40fb19508>\u001b[0m in \u001b[0;36m<module>\u001b[1;34m\u001b[0m\n\u001b[0;32m      2\u001b[0m     \u001b[0mret\u001b[0m\u001b[1;33m,\u001b[0m \u001b[0mframe\u001b[0m \u001b[1;33m=\u001b[0m \u001b[0mvideo\u001b[0m\u001b[1;33m.\u001b[0m\u001b[0mread\u001b[0m\u001b[1;33m(\u001b[0m\u001b[1;33m)\u001b[0m\u001b[1;33m\u001b[0m\u001b[1;33m\u001b[0m\u001b[0m\n\u001b[0;32m      3\u001b[0m \u001b[1;33m\u001b[0m\u001b[0m\n\u001b[1;32m----> 4\u001b[1;33m     \u001b[0mhsv_low\u001b[0m \u001b[1;33m=\u001b[0m \u001b[0mnp\u001b[0m\u001b[1;33m.\u001b[0m\u001b[0marray\u001b[0m\u001b[1;33m(\u001b[0m\u001b[1;33m[\u001b[0m\u001b[0mH_low\u001b[0m\u001b[1;33m,\u001b[0m \u001b[0mS_low\u001b[0m\u001b[1;33m,\u001b[0m \u001b[0mV_low\u001b[0m\u001b[1;33m]\u001b[0m\u001b[1;33m,\u001b[0m \u001b[0mnp\u001b[0m\u001b[1;33m.\u001b[0m\u001b[0muint8\u001b[0m\u001b[1;33m)\u001b[0m\u001b[1;33m\u001b[0m\u001b[1;33m\u001b[0m\u001b[0m\n\u001b[0m\u001b[0;32m      5\u001b[0m     \u001b[0mhsv_high\u001b[0m \u001b[1;33m=\u001b[0m \u001b[0mnp\u001b[0m\u001b[1;33m.\u001b[0m\u001b[0marray\u001b[0m\u001b[1;33m(\u001b[0m\u001b[1;33m[\u001b[0m\u001b[0mH_high\u001b[0m\u001b[1;33m,\u001b[0m \u001b[0mS_high\u001b[0m\u001b[1;33m,\u001b[0m \u001b[0mV_high\u001b[0m\u001b[1;33m]\u001b[0m\u001b[1;33m,\u001b[0m \u001b[0mnp\u001b[0m\u001b[1;33m.\u001b[0m\u001b[0muint8\u001b[0m\u001b[1;33m)\u001b[0m\u001b[1;33m\u001b[0m\u001b[1;33m\u001b[0m\u001b[0m\n\u001b[0;32m      6\u001b[0m \u001b[1;33m\u001b[0m\u001b[0m\n",
      "\u001b[1;31mNameError\u001b[0m: name 'H_low' is not defined"
     ]
    }
   ],
   "source": [
    "while True:\n",
    "    ret, frame = video.read()\n",
    "\n",
    "    hsv_low = np.array([H_low, S_low, V_low], np.uint8)\n",
    "    hsv_high = np.array([H_high, S_high, V_high], np.uint8)\n",
    "\n",
    "    hsv = cv2.cvtColor(frame, cv2.COLOR_BGR2HSV)\n",
    "    hsvBlur = cv2.GaussianBlur(hsv, (5,5), 0)\n",
    "\n",
    "    keyMask = cv2.inRange(hsvBlur, (0, 0, 0), (40, 255, 255))\n",
    "    \n",
    "    output = cv2.bitwise_and(frame, frame, mask=keyMask)\n",
    "\n",
    "    # cv2.imshow('frame', frame)\n",
    "    if ret:\n",
    "        # cv2.imshow('keyMask', keyMask)\n",
    "        cv2.imshow('output', hsvBlur)\n",
    "\n",
    "\n",
    "    else:\n",
    "        break\n",
    "\n",
    "\n",
    "    \n",
    "    if cv2.waitKey(1) & 0xFF == ord('q'):\n",
    "        break\n",
    "\n",
    "cv2.destroyAllWindows()"
   ]
  }
 ],
 "metadata": {
  "interpreter": {
   "hash": "af2dc65967692050cab8e66feb265a08b4036dabf5bf167c8e1e4da3fe6ea63e"
  },
  "kernelspec": {
   "display_name": "Python 3.8.8 ('base')",
   "language": "python",
   "name": "python3"
  },
  "language_info": {
   "codemirror_mode": {
    "name": "ipython",
    "version": 3
   },
   "file_extension": ".py",
   "mimetype": "text/x-python",
   "name": "python",
   "nbconvert_exporter": "python",
   "pygments_lexer": "ipython3",
   "version": "3.8.8"
  },
  "orig_nbformat": 4
 },
 "nbformat": 4,
 "nbformat_minor": 2
}
