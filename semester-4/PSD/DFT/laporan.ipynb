{
 "cells": [
  {
   "cell_type": "markdown",
   "metadata": {},
   "source": [
    "# Listing Program"
   ]
  },
  {
   "cell_type": "code",
   "execution_count": 1,
   "metadata": {},
   "outputs": [],
   "source": [
    "import math\n",
    "import time"
   ]
  },
  {
   "cell_type": "code",
   "execution_count": 2,
   "metadata": {},
   "outputs": [],
   "source": [
    "PI = math.pi"
   ]
  },
  {
   "cell_type": "code",
   "execution_count": 3,
   "metadata": {},
   "outputs": [],
   "source": [
    "def dft(seq):\n",
    "    N = len(seq)\n",
    "    y_real = [0] * N\n",
    "    y_img = [0] * N\n",
    "\n",
    "    for i in range(N):\n",
    "        for j in range(N):\n",
    "            e = -i * 2 * PI * j / N\n",
    "            y_real[i] += seq[j] * math.cos(e)\n",
    "            y_img[i] += seq[j] * math.sin(e)\n",
    "    \n",
    "    return y_real, y_img\n"
   ]
  },
  {
   "cell_type": "code",
   "execution_count": 4,
   "metadata": {},
   "outputs": [],
   "source": [
    "def inverse_dft(y_real, y_img):\n",
    "    N = len(y_real)\n",
    "    seq = [0] * N\n",
    "    \n",
    "    for i in range(N):\n",
    "        for j in range(N):\n",
    "            e = j * 2 * PI * i / N\n",
    "            seq[i] += y_real[j] * math.cos(e) - y_img[j] * math.sin(e)\n",
    "        \n",
    "        seq[i] /= N\n",
    "    \n",
    "    return seq"
   ]
  },
  {
   "cell_type": "code",
   "execution_count": 5,
   "metadata": {},
   "outputs": [],
   "source": [
    "def print_dft(y_real, y_img):\n",
    "    N = len(y_real)\n",
    "    for i in range(N):\n",
    "        print(f\"{y_real[i]:.2f} + {y_img[i]:.2f}j\")"
   ]
  },
  {
   "cell_type": "code",
   "execution_count": 6,
   "metadata": {},
   "outputs": [],
   "source": [
    "def normalize(seq):\n",
    "    N = len(seq)\n",
    "    maks = max(seq)\n",
    "    for i in range(N):\n",
    "        seq[i] /= maks\n",
    "    \n",
    "    return seq"
   ]
  },
  {
   "cell_type": "markdown",
   "metadata": {},
   "source": [
    "# Jawaban"
   ]
  },
  {
   "cell_type": "markdown",
   "metadata": {},
   "source": [
    "## Soal no 1"
   ]
  },
  {
   "cell_type": "code",
   "execution_count": 7,
   "metadata": {},
   "outputs": [
    {
     "name": "stdout",
     "output_type": "stream",
     "text": [
      "0.00 + 0.00j\n",
      "2.00 + 0.00j\n",
      "0.00 + -0.00j\n",
      "2.00 + 0.00j\n",
      "Time: 8.920000000145478e-05\n"
     ]
    }
   ],
   "source": [
    "x1 = [1, 0, -1, 0]\n",
    "\n",
    "start = time.perf_counter()\n",
    "\n",
    "y_real1, y_img1 = dft(x1)\n",
    "\n",
    "end = time.perf_counter()\n",
    "\n",
    "print_dft(y_real1, y_img1)\n",
    "print(f\"Time: {end - start}\")"
   ]
  },
  {
   "cell_type": "markdown",
   "metadata": {},
   "source": [
    "## Soal no 2"
   ]
  },
  {
   "cell_type": "code",
   "execution_count": 8,
   "metadata": {},
   "outputs": [
    {
     "name": "stdout",
     "output_type": "stream",
     "text": [
      "6.00 + 0.00j\n",
      "-0.00 + -0.00j\n",
      "0.00 + -0.00j\n",
      "0.00 + -0.00j\n",
      "-0.00 + -0.00j\n",
      "-0.00 + -0.00j\n",
      "Time: 6.810000000001537e-05\n"
     ]
    }
   ],
   "source": [
    "x2 = [1, 1, 1, 1, 1, 1]\n",
    "\n",
    "start = time.perf_counter()\n",
    "\n",
    "y_real2, y_img2 = dft(x2)\n",
    "\n",
    "end = time.perf_counter()\n",
    "\n",
    "print_dft(y_real2, y_img2)\n",
    "print(f\"Time: {end - start}\")"
   ]
  },
  {
   "cell_type": "markdown",
   "metadata": {},
   "source": [
    "## Soal no 3"
   ]
  },
  {
   "cell_type": "code",
   "execution_count": 9,
   "metadata": {},
   "outputs": [
    {
     "name": "stdout",
     "output_type": "stream",
     "text": [
      "Normalized: [0.625, 0.0, 0.25, 0.5, 0.25, 0.0, 0.125, 0.0, 0.25, 1.0]\n",
      "3.00 + 0.00j\n",
      "1.13 + 0.04j\n",
      "0.24 + 1.36j\n",
      "0.43 + 1.13j\n",
      "-0.18 + 0.19j\n",
      "0.00 + -0.00j\n",
      "-0.18 + -0.19j\n",
      "0.43 + -1.13j\n",
      "0.24 + -1.36j\n",
      "1.13 + -0.04j\n",
      "Time: 0.00019020000000047332\n"
     ]
    }
   ],
   "source": [
    "x3 = [5, 0, 2, 4, 2, 0, 1, 0 ,2 , 8]\n",
    "x_normalized3 = normalize(x3)\n",
    "print(f\"Normalized: {x_normalized3}\")\n",
    "\n",
    "start = time.perf_counter()\n",
    "\n",
    "y_real3, y_img3 = dft(x_normalized3)\n",
    "\n",
    "end = time.perf_counter()\n",
    "\n",
    "print_dft(y_real3, y_img3)\n",
    "print(f\"Time: {end - start}\")"
   ]
  },
  {
   "cell_type": "markdown",
   "metadata": {},
   "source": [
    "# Implementasi Inverse DFT"
   ]
  },
  {
   "cell_type": "markdown",
   "metadata": {},
   "source": [
    "## Soal no 1"
   ]
  },
  {
   "cell_type": "code",
   "execution_count": 10,
   "metadata": {},
   "outputs": [
    {
     "name": "stdout",
     "output_type": "stream",
     "text": [
      "Sequence Awal: [1, 0, -1, 0]\n",
      "Hasil Inverse DFT: [1.0, 7.498798913309288e-33, -1.0, 1.2246467991473537e-16]\n",
      "Time: 5.710000000114235e-05\n"
     ]
    }
   ],
   "source": [
    "start = time.perf_counter()\n",
    "seq1 = inverse_dft(y_real1, y_img1)\n",
    "end = time.perf_counter()\n",
    "\n",
    "print(f\"Sequence Awal: {x1}\")\n",
    "print(f\"Hasil Inverse DFT: {seq1}\")\n",
    "print(f\"Time: {end - start}\")"
   ]
  },
  {
   "cell_type": "markdown",
   "metadata": {},
   "source": [
    "## Soal no 2"
   ]
  },
  {
   "cell_type": "code",
   "execution_count": 11,
   "metadata": {},
   "outputs": [
    {
     "name": "stdout",
     "output_type": "stream",
     "text": [
      "Sequence Awal: [1, 1, 1, 1, 1, 1]\n",
      "Hasil Inverse DFT: [0.9999999999999997, 0.9999999999999994, 0.9999999999999999, 1.0, 1.0000000000000007, 1.0000000000000004]\n",
      "Time: 6.999999999912632e-05\n"
     ]
    }
   ],
   "source": [
    "start = time.perf_counter()\n",
    "seq2 = inverse_dft(y_real2, y_img2)\n",
    "end = time.perf_counter()\n",
    "\n",
    "print(f\"Sequence Awal: {x2}\")\n",
    "print(f\"Hasil Inverse DFT: {seq2}\")\n",
    "print(f\"Time: {end - start}\")"
   ]
  },
  {
   "cell_type": "markdown",
   "metadata": {},
   "source": [
    "## Soal no 3"
   ]
  },
  {
   "cell_type": "code",
   "execution_count": 12,
   "metadata": {},
   "outputs": [
    {
     "name": "stdout",
     "output_type": "stream",
     "text": [
      "Sequence Awal: [0.625, 0.0, 0.25, 0.5, 0.25, 0.0, 0.125, 0.0, 0.25, 1.0]\n",
      "Hasil Inverse DFT: [0.6250000000000002, 6.217248937900876e-16, 0.25000000000000056, 0.49999999999999983, 0.24999999999999992, 2.2204460492503132e-17, 0.12499999999999938, -1.3711254354120683e-15, 0.2500000000000002, 1.0000000000000002]\n",
      "Time: 0.00010319999999985896\n"
     ]
    }
   ],
   "source": [
    "start = time.perf_counter()\n",
    "seq3 = inverse_dft(y_real3, y_img3)\n",
    "end = time.perf_counter()\n",
    "\n",
    "print(f\"Sequence Awal: {x_normalized3}\")\n",
    "print(f\"Hasil Inverse DFT: {seq3}\")\n",
    "print(f\"Time: {end - start}\")"
   ]
  }
 ],
 "metadata": {
  "interpreter": {
   "hash": "af2dc65967692050cab8e66feb265a08b4036dabf5bf167c8e1e4da3fe6ea63e"
  },
  "kernelspec": {
   "display_name": "Python 3.8.8 ('base')",
   "language": "python",
   "name": "python3"
  },
  "language_info": {
   "codemirror_mode": {
    "name": "ipython",
    "version": 3
   },
   "file_extension": ".py",
   "mimetype": "text/x-python",
   "name": "python",
   "nbconvert_exporter": "python",
   "pygments_lexer": "ipython3",
   "version": "3.8.8"
  },
  "orig_nbformat": 4
 },
 "nbformat": 4,
 "nbformat_minor": 2
}
