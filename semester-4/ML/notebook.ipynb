{
 "cells": [
  {
   "cell_type": "markdown",
   "metadata": {},
   "source": [
    "# Deteksi Hepatitis MLP"
   ]
  },
  {
   "cell_type": "markdown",
   "metadata": {},
   "source": [
    "## Import Library"
   ]
  },
  {
   "cell_type": "code",
   "execution_count": null,
   "metadata": {},
   "outputs": [],
   "source": [
    "# Data Manipulation\n",
    "import pandas as pd\n",
    "import numpy as np\n",
    "from sklearn.model_selection import train_test_split\n",
    "from sklearn import preprocessing\n",
    "from imblearn.over_sampling import SMOTE\n",
    "from imblearn.over_sampling import RandomOverSampler\n",
    "from imblearn.under_sampling import RandomUnderSampler\n",
    "from imblearn.pipeline import Pipeline\n",
    "\n",
    "# Data Visualization\n",
    "import matplotlib.pyplot as plt\n",
    "from matplotlib.gridspec import GridSpec\n",
    "import missingno as msno\n",
    "import seaborn as sns\n",
    "\n",
    "# MLP\n",
    "from sklearn.neural_network import MLPClassifier\n",
    "from sklearn.model_selection import GridSearchCV\n",
    "from sklearn.metrics import classification_report, confusion_matrix\n",
    "from keras.models import Sequential\n",
    "from keras.utils import np_utils\n",
    "from keras.layers.core import Dense, Activation, Dropout\n",
    "from keras.callbacks import EarlyStopping\n",
    "\n",
    "# Utils\n",
    "import json\n",
    "from keras.utils import np_utils"
   ]
  },
  {
   "cell_type": "markdown",
   "metadata": {},
   "source": [
    "## Load Data"
   ]
  },
  {
   "cell_type": "code",
   "execution_count": null,
   "metadata": {},
   "outputs": [],
   "source": [
    "df = pd.read_csv('HepatitisDataset.csv')\n",
    "df.head()"
   ]
  },
  {
   "cell_type": "code",
   "execution_count": null,
   "metadata": {},
   "outputs": [],
   "source": [
    "df.info()"
   ]
  },
  {
   "cell_type": "markdown",
   "metadata": {},
   "source": [
    "## Data Preprocessing"
   ]
  },
  {
   "cell_type": "markdown",
   "metadata": {},
   "source": [
    "### Remove Unnecessary Columns"
   ]
  },
  {
   "cell_type": "code",
   "execution_count": null,
   "metadata": {},
   "outputs": [],
   "source": [
    "df = df.drop('Unnamed: 0', axis=1)"
   ]
  },
  {
   "cell_type": "markdown",
   "metadata": {},
   "source": [
    "### Missing Values"
   ]
  },
  {
   "cell_type": "code",
   "execution_count": null,
   "metadata": {},
   "outputs": [],
   "source": [
    "msno.matrix(df)"
   ]
  },
  {
   "cell_type": "code",
   "execution_count": null,
   "metadata": {},
   "outputs": [],
   "source": [
    "df.isnull().groupby('Category').sum()"
   ]
  },
  {
   "cell_type": "code",
   "execution_count": null,
   "metadata": {},
   "outputs": [],
   "source": [
    "df.isnull().sum()"
   ]
  },
  {
   "cell_type": "code",
   "execution_count": null,
   "metadata": {},
   "outputs": [],
   "source": [
    "df.isnull().sum() * 100 / len(df)"
   ]
  },
  {
   "cell_type": "markdown",
   "metadata": {},
   "source": [
    "Karena data yang kosong atau null terbilang sedikit kami memutuskan untuk menghapus kolom yang memiliki missing values."
   ]
  },
  {
   "cell_type": "code",
   "execution_count": null,
   "metadata": {},
   "outputs": [],
   "source": [
    "df.dropna(inplace=True)\n",
    "df.reset_index(drop=True, inplace=True)\n",
    "df.isnull().sum()"
   ]
  },
  {
   "cell_type": "markdown",
   "metadata": {},
   "source": [
    "### Convert to Numerical Data"
   ]
  },
  {
   "cell_type": "code",
   "execution_count": null,
   "metadata": {},
   "outputs": [],
   "source": [
    "df['Sex'].replace('m', 1, inplace=True)\n",
    "df['Sex'].replace('f', 0, inplace=True)\n",
    "df['Category'].replace({\"1=Hepatitis\", \"2=Fibrosis\", \"3=Cirrhosis\"}, 1, inplace=True)\n",
    "df['Category'].replace({\"0=Blood Donor\", \"0s=suspect Blood Donor\"}, 0, inplace=True)"
   ]
  },
  {
   "cell_type": "code",
   "execution_count": null,
   "metadata": {},
   "outputs": [],
   "source": [
    "df.tail()"
   ]
  },
  {
   "cell_type": "markdown",
   "metadata": {},
   "source": [
    "## Data Visualization"
   ]
  },
  {
   "cell_type": "markdown",
   "metadata": {},
   "source": [
    "### Macam-macam Feature"
   ]
  },
  {
   "cell_type": "markdown",
   "metadata": {},
   "source": [
    "Terdapat beberapa macam feature yaitu:"
   ]
  },
  {
   "cell_type": "markdown",
   "metadata": {},
   "source": [
    "#### Caterogical Feature"
   ]
  },
  {
   "cell_type": "markdown",
   "metadata": {},
   "source": [
    "Categorical feature adalah feature yang berhubungan dengan kategori. Kategori bisa terdiri dari 2 atau lebih. Misalnya, jenis kelamin yang mana memiliki 2 kategori yaitu pria dan wanita. Feature ini biasanya disebut juga sebagai Numerical Feature"
   ]
  },
  {
   "cell_type": "markdown",
   "metadata": {},
   "source": [
    "#### Ordinal Feature"
   ]
  },
  {
   "cell_type": "markdown",
   "metadata": {},
   "source": [
    "Ordinal feature mirip dengan categorical feature namun feature ini dapat diurutkan nilainya. Misalnya kepuasan konsumen yang memiliki 4 kategori yang dapat dirutkan yaitu tidak puas, puas sedang, puas dan sangat puas."
   ]
  },
  {
   "cell_type": "markdown",
   "metadata": {},
   "source": [
    "#### Continuous Feature"
   ]
  },
  {
   "cell_type": "markdown",
   "metadata": {},
   "source": [
    "Continous feature adalah feature yang berisi angka. Misalnya, umur."
   ]
  },
  {
   "cell_type": "markdown",
   "metadata": {},
   "source": [
    "### Feature Analyze"
   ]
  },
  {
   "cell_type": "markdown",
   "metadata": {},
   "source": [
    "### Category Visualization"
   ]
  },
  {
   "cell_type": "code",
   "execution_count": null,
   "metadata": {},
   "outputs": [],
   "source": [
    "fig, ax = plt.subplots(1,1, figsize = (6, 6))\n",
    "fig.patch.set_facecolor('#f5f5f5')\n",
    "sns.set_palette(sns.color_palette(['green','purple', 'orange', 'red']))\n",
    "\n",
    "ax.pie(df['Category'].value_counts().values, \n",
    "            labels=['Healthy', 'Hepatitis'],\n",
    "            autopct='%1.1f%%', explode=[0.1,  0.1], \n",
    "            colors=['tab:green', 'tab:red'])\n",
    "\n",
    "for piece in ax.axes.patches:\n",
    "    piece.set_alpha(0.5)\n",
    "\n",
    "plt.title('Hepatitis Dataset', {'font':'Serif', 'weight':'bold','color': 'black', 'size':25})\n",
    "\n",
    "plt.show()"
   ]
  },
  {
   "cell_type": "markdown",
   "metadata": {},
   "source": [
    "#### Age -> Continuous Feature"
   ]
  },
  {
   "cell_type": "code",
   "execution_count": null,
   "metadata": {},
   "outputs": [],
   "source": [
    "print('Oldest Age:', df['Age'].max(),'Years')\n",
    "print('Youngest Age:', df['Age'].min(),'Years')\n",
    "print('Average Age:', df['Age'].mean(),'Years')"
   ]
  },
  {
   "cell_type": "code",
   "execution_count": null,
   "metadata": {},
   "outputs": [],
   "source": [
    "fig, ax = plt.subplots(1, 1, figsize = (12,5))\n",
    "fig.patch.set_facecolor('#f5f5f5')\n",
    "sns.set_palette(sns.color_palette(['green','purple', 'orange', 'red']))\n",
    "\n",
    "sns.kdeplot('Age', data=df[df.Category==0], ax=ax, shade=True, color='tab:green', alpha=1, label='Healthy')\n",
    "sns.kdeplot('Age', data=df[df.Category==1], ax=ax, shade=True, color='tab:red', alpha=0.9, label='Hepatitis')\n",
    "\n",
    "ax.legend()\n",
    "ax.set_xlabel('Age', {'font':'Serif', 'fontsize':16,'fontweight':'bold', 'color':'black'})\n",
    "\n",
    "plt.title('Age Distribution', {'font':'Serif', 'fontsize':20,'fontweight':'bold', 'color':'black'})\n",
    "\n",
    "plt.show()"
   ]
  },
  {
   "cell_type": "markdown",
   "metadata": {},
   "source": [
    "#### Sex -> Categorical Feature"
   ]
  },
  {
   "cell_type": "code",
   "execution_count": null,
   "metadata": {},
   "outputs": [],
   "source": [
    "fig = plt.figure(figsize = (24,10), dpi = 60)\n",
    "gs = GridSpec(ncols=13, nrows=5, left=0.05, right=0.5, wspace=0.2, hspace=0.1)\n",
    "fig.patch.set_facecolor('#f5f5f5')\n",
    "sns.set_palette(sns.color_palette(['green','purple', 'orange', 'red']))\n",
    "\n",
    "ax1 = fig.add_subplot(gs[:, 0:5])\n",
    "ax2 = fig.add_subplot(gs[:, 8:])\n",
    "\n",
    "axes = [ax1,ax2]\n",
    "\n",
    "for ax in axes:\n",
    "    ax.axes.get_yaxis().set_visible(False)\n",
    "    ax.set_facecolor('#f5f5f5')\n",
    "    \n",
    "    for loc in ['left', 'right', 'top', 'bottom']:\n",
    "        ax.spines[loc].set_visible(False)\n",
    "\n",
    "#------------------------------------------------------------    \n",
    "#ax1\n",
    "ax1_plot = ax1.pie(df[df.Sex == 1].groupby('Category').Category.count().values, \n",
    "                   labels=['Healthy', 'Hepatitis'],\n",
    "                    autopct='%1.1f%%', explode=[0.1,  0.1], \n",
    "                   colors=['orange', 'red', 'green', 'purple'])\n",
    "\n",
    "for piece in ax1_plot[0]:\n",
    "    piece.set_alpha(0.5)\n",
    "\n",
    "for i, text in enumerate(ax1_plot[1]):\n",
    "    text.set_weight('bold')\n",
    "    text.set_size(14)\n",
    "\n",
    "for i, text in enumerate(ax1_plot[2]):\n",
    "    text.set_weight('bold')\n",
    "    text.set_size(12)\n",
    "\n",
    "    \n",
    "fig.text(0.1, 0.75, 'Males',  {'font':'Serif', 'weight':'bold','color': 'black', 'size':25})\n",
    "#------------------------------------------------------------    \n",
    "#ax2\n",
    "ax2_plot = ax2.pie(df[df.Sex == 0].groupby('Category').Category.count().values, \n",
    "                   labels=['Healthy', 'Hepatitis'],\n",
    "                    autopct='%1.1f%%', explode=[0.1,  0.1], \n",
    "                   colors=['orange', 'red', 'green', 'purple'])\n",
    "\n",
    "for piece in ax2_plot[0]:\n",
    "    piece.set_alpha(0.5)\n",
    "\n",
    "for i, text in enumerate(ax2_plot[1]):\n",
    "    text.set_weight('bold')\n",
    "    text.set_size(14)\n",
    "\n",
    "for i, text in enumerate(ax2_plot[2]):\n",
    "    text.set_weight('bold')\n",
    "    text.set_size(12)\n",
    "\n",
    "fig.text(0.38, 0.75, 'Females',  {'font':'Serif', 'weight':'bold','color': 'black', 'size':25}) \n",
    "plt.show()"
   ]
  },
  {
   "cell_type": "markdown",
   "metadata": {},
   "source": [
    "#### ALB, ALP, ALT, AST, BIL, CHE, CHOL, CREA, GGT, PROT -> Continous Feature"
   ]
  },
  {
   "cell_type": "code",
   "execution_count": null,
   "metadata": {},
   "outputs": [],
   "source": [
    "fig = plt.figure(figsize = (16,16), dpi = 60, constrained_layout=True)\n",
    "spec = GridSpec(ncols=2, nrows=5, figure=fig)\n",
    "ax1 = fig.add_subplot(spec[0, 0])\n",
    "ax2 = fig.add_subplot(spec[0, 1])\n",
    "ax3 = fig.add_subplot(spec[1, 0])\n",
    "ax4 = fig.add_subplot(spec[1, 1])\n",
    "ax5 = fig.add_subplot(spec[2, 0])\n",
    "ax6 = fig.add_subplot(spec[2, 1])\n",
    "ax7 = fig.add_subplot(spec[3, 0])\n",
    "ax8 = fig.add_subplot(spec[3, 1])\n",
    "ax9 = fig.add_subplot(spec[4, 0])\n",
    "ax10 = fig.add_subplot(spec[4, 1])\n",
    "\n",
    "#-------------------------------------------------------------------------------\n",
    "sns.kdeplot('ALB', data=df[df.Category==0], ax=ax1, shade=True, color='tab:green', alpha=1, label='Healthy', legend=False)\n",
    "sns.kdeplot('ALB', data=df[df.Category==1], ax=ax1, shade=True, color='tab:red', alpha=0.9, label='Hepatitis', legend=False)\n",
    "ax1.set_title('ALB vs Category', {'font':'Serif', 'weight':'bold','color': 'black', 'size':25})\n",
    "#-------------------------------------------------------------------------------\n",
    "sns.kdeplot('ALP', data=df[df.Category==0], ax=ax2, shade=True, color='tab:green', alpha=1, label='Healthy', legend=False)\n",
    "sns.kdeplot('ALP', data=df[df.Category==1], ax=ax2, shade=True, color='tab:red', alpha=0.9, label='Hepatitis', legend=False)\n",
    "ax2.set_title('ALP vs Category', {'font':'Serif', 'weight':'bold','color': 'black', 'size':25})\n",
    "#-------------------------------------------------------------------------------\n",
    "sns.kdeplot('ALT', data=df[df.Category==0], ax=ax3, shade=True, color='tab:green', alpha=1, label='Healthy', legend=False)\n",
    "sns.kdeplot('ALT', data=df[df.Category==1], ax=ax3, shade=True, color='tab:red', alpha=0.9, label='Hepatitis', legend=False)\n",
    "ax3.set_title('ALT vs Category', {'font':'Serif', 'weight':'bold','color': 'black', 'size':25})\n",
    "#-------------------------------------------------------------------------------\n",
    "sns.kdeplot('AST', data=df[df.Category==0], ax=ax4, shade=True, color='tab:green', alpha=1, label='Healthy', legend=False)\n",
    "sns.kdeplot('AST', data=df[df.Category==1], ax=ax4, shade=True, color='tab:red', alpha=0.9, label='Hepatitis', legend=False)\n",
    "ax4.set_title('AST vs Category', {'font':'Serif', 'weight':'bold','color': 'black', 'size':25})\n",
    "#-------------------------------------------------------------------------------\n",
    "sns.kdeplot('BIL', data=df[df.Category==0], ax=ax5, shade=True, color='tab:green', alpha=1, label='Healthy', legend=False)\n",
    "sns.kdeplot('BIL', data=df[df.Category==1], ax=ax5, shade=True, color='tab:red', alpha=0.9, label='Hepatitis', legend=False)\n",
    "ax5.set_title('BIL vs Category', {'font':'Serif', 'weight':'bold','color': 'black', 'size':25})\n",
    "#-------------------------------------------------------------------------------\n",
    "sns.kdeplot('CHE', data=df[df.Category==0], ax=ax6, shade=True, color='tab:green', alpha=1, label='Healthy', legend=False)\n",
    "sns.kdeplot('CHE', data=df[df.Category==1], ax=ax6, shade=True, color='tab:red', alpha=0.9, label='Hepatitis', legend=False)\n",
    "ax6.set_title('CHE vs Category', {'font':'Serif', 'weight':'bold','color': 'black', 'size':25})\n",
    "#-------------------------------------------------------------------------------\n",
    "sns.kdeplot('CHOL', data=df[df.Category==0], ax=ax7, shade=True, color='tab:green', alpha=1, label='Healthy', legend=False)\n",
    "sns.kdeplot('CHOL', data=df[df.Category==1], ax=ax7, shade=True, color='tab:red', alpha=0.9, label='Hepatitis', legend=False)\n",
    "ax7.set_title('CHOL vs Category', {'font':'Serif', 'weight':'bold','color': 'black', 'size':25})\n",
    "#-------------------------------------------------------------------------------\n",
    "sns.kdeplot('CREA', data=df[df.Category==0], ax=ax8, shade=True, color='tab:green', alpha=1, label='Healthy', legend=False)\n",
    "sns.kdeplot('CREA', data=df[df.Category==1], ax=ax8, shade=True, color='tab:red', alpha=0.9, label='Hepatitis', legend=False)\n",
    "ax8.set_title('CREA vs Category', {'font':'Serif', 'weight':'bold','color': 'black', 'size':25})\n",
    "#-------------------------------------------------------------------------------\n",
    "sns.kdeplot('GGT', data=df[df.Category==0], ax=ax9, shade=True, color='tab:green', alpha=1, label='Healthy', legend=False)\n",
    "sns.kdeplot('GGT', data=df[df.Category==1], ax=ax9, shade=True, color='tab:red', alpha=0.9, label='Hepatitis', legend=False)\n",
    "ax9.set_title('GGT vs Category', {'font':'Serif', 'weight':'bold','color': 'black', 'size':25})\n",
    "#-------------------------------------------------------------------------------\n",
    "sns.kdeplot('PROT', data=df[df.Category==0], ax=ax10, shade=True, color='tab:green', alpha=1, label='Healthy', legend=False)\n",
    "sns.kdeplot('PROT', data=df[df.Category==1], ax=ax10, shade=True, color='tab:red', alpha=0.9, label='Hepatitis', legend=False)\n",
    "ax10.set_title('PROT vs Category', {'font':'Serif', 'weight':'bold','color': 'black', 'size':25})\n",
    "\n",
    "plt.show()"
   ]
  },
  {
   "cell_type": "markdown",
   "metadata": {},
   "source": [
    "### Correlation Matrix Between Independent Variables"
   ]
  },
  {
   "cell_type": "code",
   "execution_count": null,
   "metadata": {},
   "outputs": [],
   "source": [
    "plt.figure(figsize=(16,8))\n",
    "sns.heatmap(df.corr(),annot=True)\n",
    "plt.show()"
   ]
  },
  {
   "cell_type": "code",
   "execution_count": null,
   "metadata": {},
   "outputs": [],
   "source": [
    "pd.DataFrame([[\"0 < r <= 0.19\", \"Very Low Correlation\"],[\"0.2 <= r <= 0.39\", \"Low Correlation\"], [\"0.4 < r <= 0.59\", \"Modderate Correlation\"], [\"0.6 < r <= 0.79\", \"High Correlation\"], [\"0.8 < r <= 1.0\", \"Very High Correlation\"] ], columns=['Scale of Correlation', 'Value'])"
   ]
  },
  {
   "cell_type": "markdown",
   "metadata": {},
   "source": [
    "Pada matriks korelasi di atas dapat dilihat bahwa korelasi tertinggi antar variabel independen adalah ALB dengan PROT dengan nilai 0.56, CGT dengan AST dengan nilai 0.49, dan CGT dengan ALP dengan nilai 0.45. Karena ketiga korelasi tersebut masih masuk ke dalam kategori moderate maka dari itu kami memutuskan untuk menggunakan semua variabel independen yang ada untuk proses training. "
   ]
  },
  {
   "cell_type": "markdown",
   "metadata": {},
   "source": [
    "## Sepperate Label and Features"
   ]
  },
  {
   "cell_type": "code",
   "execution_count": null,
   "metadata": {},
   "outputs": [],
   "source": [
    "X = df.drop(['Category'],axis=1)\n",
    "y = df[\"Category\"]"
   ]
  },
  {
   "cell_type": "code",
   "execution_count": null,
   "metadata": {},
   "outputs": [],
   "source": [
    "X"
   ]
  },
  {
   "cell_type": "code",
   "execution_count": null,
   "metadata": {},
   "outputs": [],
   "source": [
    "y"
   ]
  },
  {
   "cell_type": "markdown",
   "metadata": {},
   "source": [
    "## Train Test Split"
   ]
  },
  {
   "cell_type": "code",
   "execution_count": null,
   "metadata": {},
   "outputs": [],
   "source": [
    "X_train, X_test, y_train, y_test = train_test_split(X, y, test_size=0.3, random_state=46, stratify=y)"
   ]
  },
  {
   "cell_type": "markdown",
   "metadata": {},
   "source": [
    "## Data sampling"
   ]
  },
  {
   "cell_type": "markdown",
   "metadata": {},
   "source": [
    "Karena dataset yang digunakan imbalance blablabal"
   ]
  },
  {
   "cell_type": "code",
   "execution_count": null,
   "metadata": {},
   "outputs": [],
   "source": [
    "over = SMOTE()\n",
    "overs = RandomOverSampler()\n",
    "under = RandomUnderSampler()\n",
    "steps = [('o', over), ('os', overs),('u',under)]\n",
    "pipeline = Pipeline(steps=steps)"
   ]
  },
  {
   "cell_type": "code",
   "execution_count": null,
   "metadata": {},
   "outputs": [],
   "source": [
    "X_train_og, y_train_og = X_train, y_train \n",
    "X_train, y_train = pipeline.fit_resample(X_train, y_train)"
   ]
  },
  {
   "cell_type": "markdown",
   "metadata": {},
   "source": [
    "### Perbandingan blabla"
   ]
  },
  {
   "cell_type": "code",
   "execution_count": null,
   "metadata": {},
   "outputs": [],
   "source": [
    "fig = plt.figure(figsize = (24,10), dpi = 60)\n",
    "gs = GridSpec(ncols=13, nrows=5, left=0.05, right=0.5, wspace=0.2, hspace=0.1)\n",
    "fig.patch.set_facecolor('#f5f5f5')\n",
    "sns.set_palette(sns.color_palette(['green','purple', 'orange', 'red']))\n",
    "\n",
    "ax1 = fig.add_subplot(gs[:, 0:5])\n",
    "ax2 = fig.add_subplot(gs[:, 8:])\n",
    "\n",
    "axes = [ax1,ax2]\n",
    "\n",
    "for ax in axes:\n",
    "    ax.axes.get_yaxis().set_visible(False)\n",
    "    ax.set_facecolor('#f5f5f5')\n",
    "    \n",
    "    for loc in ['left', 'right', 'top', 'bottom']:\n",
    "        ax.spines[loc].set_visible(False)\n",
    "\n",
    "#------------------------------------------------------------    \n",
    "#ax1\n",
    "ax1_plot = ax1.pie(y_train_og.value_counts().values, \n",
    "                   labels=['Healthy', 'Hepatitis'],\n",
    "                    autopct='%1.1f%%', explode=[0.1,  0.1], \n",
    "                   colors=['green', 'red'])\n",
    "\n",
    "for piece in ax1_plot[0]:\n",
    "    piece.set_alpha(0.5)\n",
    "\n",
    "for i, text in enumerate(ax1_plot[1]):\n",
    "    text.set_weight('bold')\n",
    "    text.set_size(14)\n",
    "\n",
    "for i, text in enumerate(ax1_plot[2]):\n",
    "    text.set_weight('bold')\n",
    "    text.set_size(12)\n",
    "\n",
    "    \n",
    "fig.text(0.1, 0.75, 'Before',  {'font':'Serif', 'weight':'bold','color': 'black', 'size':25})\n",
    "#------------------------------------------------------------    \n",
    "#ax2\n",
    "ax2_plot = ax2.pie(y_train.value_counts().values, \n",
    "                   labels=['Healthy', 'Hepatitis'],\n",
    "                    autopct='%1.1f%%', explode=[0.05,  0], \n",
    "                   colors=['green', 'red'])\n",
    "\n",
    "for piece in ax2_plot[0]:\n",
    "    piece.set_alpha(0.5)\n",
    "\n",
    "for i, text in enumerate(ax2_plot[1]):\n",
    "    text.set_weight('bold')\n",
    "    text.set_size(14)\n",
    "\n",
    "for i, text in enumerate(ax2_plot[2]):\n",
    "    text.set_weight('bold')\n",
    "    text.set_size(12)\n",
    "\n",
    "fig.text(0.38, 0.75, 'After',  {'font':'Serif', 'weight':'bold','color': 'black', 'size':25}) \n",
    "\n",
    "plt.show()"
   ]
  },
  {
   "cell_type": "markdown",
   "metadata": {},
   "source": [
    "## Data Normalization"
   ]
  },
  {
   "cell_type": "code",
   "execution_count": null,
   "metadata": {},
   "outputs": [],
   "source": [
    "X_train_unormal, X_test_unormal = X_train, X_test"
   ]
  },
  {
   "cell_type": "code",
   "execution_count": null,
   "metadata": {},
   "outputs": [],
   "source": [
    "standard_sc = preprocessing.StandardScaler()"
   ]
  },
  {
   "cell_type": "code",
   "execution_count": null,
   "metadata": {},
   "outputs": [],
   "source": [
    "standard_sc.fit(X_train)\n",
    "X_train = standard_sc.transform(X_train)\n",
    "X_test = standard_sc.transform(X_test)"
   ]
  },
  {
   "cell_type": "markdown",
   "metadata": {},
   "source": [
    "## One Hot Encoding"
   ]
  },
  {
   "cell_type": "code",
   "execution_count": null,
   "metadata": {},
   "outputs": [],
   "source": [
    "y_train = np_utils.to_categorical(y_train, 2)\n",
    "y_test = np_utils.to_categorical(y_test, 2)"
   ]
  },
  {
   "cell_type": "markdown",
   "metadata": {},
   "source": [
    "## Bikin Model"
   ]
  },
  {
   "cell_type": "code",
   "execution_count": null,
   "metadata": {},
   "outputs": [],
   "source": [
    "earlystop = EarlyStopping(monitor='val_accuracy', patience=5, verbose=1, mode='auto')"
   ]
  },
  {
   "cell_type": "code",
   "execution_count": null,
   "metadata": {},
   "outputs": [],
   "source": [
    "model = Sequential()\n",
    "model.add(Dense(12, input_dim=12))\n",
    "model.add(Activation('relu'))\n",
    "model.add(Dropout(0.2))\n",
    "model.add(Dense(128))\n",
    "model.add(Activation('relu'))\n",
    "model.add(Dropout(0.2))\n",
    "model.add(Dense(2))\n",
    "model.add(Activation('softmax'))\n",
    "\n",
    "model.compile(loss='categorical_crossentropy', optimizer='sgd', metrics=['accuracy'])"
   ]
  },
  {
   "cell_type": "code",
   "execution_count": null,
   "metadata": {},
   "outputs": [],
   "source": [
    "model.fit(X_train, y_train, epochs=100, batch_size=8, validation_data=(X_test, y_test), verbose=1, callbacks=[earlystop])"
   ]
  },
  {
   "cell_type": "code",
   "execution_count": null,
   "metadata": {},
   "outputs": [],
   "source": [
    "plt.plot(model.history.history['accuracy'])\n",
    "plt.plot(model.history.history['val_accuracy'])\n",
    "plt.title('model accuracy')\n",
    "plt.ylabel('accuracy')\n",
    "plt.xlabel('epoch')\n",
    "plt.legend(['train', 'test'], loc='upper left')\n",
    "plt.show()\n",
    "# summarize history for loss\n",
    "plt.plot(model.history.history['loss'])\n",
    "plt.plot(model.history.history['val_loss'])\n",
    "plt.title('model loss')\n",
    "plt.ylabel('loss')\n",
    "plt.xlabel('epoch')\n",
    "plt.legend(['train', 'test'], loc='upper left')\n",
    "plt.show()"
   ]
  },
  {
   "cell_type": "code",
   "execution_count": null,
   "metadata": {},
   "outputs": [],
   "source": [
    "score = model.evaluate(X_test, y_test, verbose=0)\n",
    "print('Test loss:', score[0])\n",
    "print('Test accuracy:', score[1])"
   ]
  },
  {
   "cell_type": "markdown",
   "metadata": {},
   "source": [
    "### Validasi Model"
   ]
  },
  {
   "cell_type": "code",
   "execution_count": null,
   "metadata": {},
   "outputs": [],
   "source": [
    "y_test_pred = model.predict(X_test)"
   ]
  },
  {
   "cell_type": "code",
   "execution_count": null,
   "metadata": {},
   "outputs": [],
   "source": [
    "print(classification_report(y_test.argmax(axis=1), y_test_pred.argmax(axis=1)))"
   ]
  },
  {
   "cell_type": "code",
   "execution_count": null,
   "metadata": {},
   "outputs": [],
   "source": [
    "names = ['Non Hepatitis','Hepatitis']\n",
    "cm = confusion_matrix(y_test.argmax(axis=1), y_test_pred.argmax(axis=1))\n",
    "f,ax = plt.subplots(figsize=(10,10))\n",
    "sns.heatmap(cm,annot=True,linewidth=.5,linecolor=\"r\",fmt=\".0f\",ax=ax)\n",
    "plt.title(\"Confussion Matrix\", size = 25)\n",
    "plt.xlabel(\"y_pred\")\n",
    "plt.ylabel(\"y_true\")\n",
    "ax.set_xticklabels(names)\n",
    "ax.set_yticklabels(names)\n",
    "\n",
    "plt.show()"
   ]
  },
  {
   "cell_type": "code",
   "execution_count": null,
   "metadata": {},
   "outputs": [],
   "source": [
    "wrong_pred = []\n",
    "\n",
    "for input, prediction, label in zip(X_test, y_test_pred.argmax(axis=1), y_test.argmax(axis=1)):\n",
    "  if prediction != label:\n",
    "    wrong_pred.append((input, prediction, label))\n",
    "\n",
    "if len(wrong_pred) == 0:\n",
    "  print(\"No wrong predictions yayy 🎉🎉\")\n",
    "else:\n",
    "  print(\"Wrong predictions:\")\n",
    "  for input, prediction, label in wrong_pred:\n",
    "    print(\"Input:\", input)\n",
    "    print(\"Prediction:\", names[prediction])\n",
    "    print(\"Actual:\", names[label])\n",
    "    print()"
   ]
  },
  {
   "cell_type": "markdown",
   "metadata": {},
   "source": [
    "## Experiment"
   ]
  },
  {
   "cell_type": "markdown",
   "metadata": {},
   "source": [
    "### Normalized Data vs Unnormalized Data"
   ]
  },
  {
   "cell_type": "code",
   "execution_count": null,
   "metadata": {},
   "outputs": [],
   "source": [
    "model_unnormal = Sequential()\n",
    "model_unnormal.add(Dense(12, input_dim=12))\n",
    "model_unnormal.add(Activation('relu'))\n",
    "model_unnormal.add(Dropout(0.2))\n",
    "model_unnormal.add(Dense(128))\n",
    "model_unnormal.add(Activation('relu'))\n",
    "model_unnormal.add(Dropout(0.2))\n",
    "model_unnormal.add(Dense(2))\n",
    "model_unnormal.add(Activation('softmax'))\n",
    "\n",
    "model_unnormal.compile(loss='categorical_crossentropy', optimizer='sgd', metrics=['accuracy'])"
   ]
  },
  {
   "cell_type": "code",
   "execution_count": null,
   "metadata": {},
   "outputs": [],
   "source": [
    "model_unnormal.fit(X_train_unormal, y_train, epochs=100, batch_size=8, validation_data=(X_test_unormal, y_test), verbose=1, callbacks=[earlystop])"
   ]
  },
  {
   "cell_type": "code",
   "execution_count": null,
   "metadata": {},
   "outputs": [],
   "source": [
    "score_unormal = model_unnormal.evaluate(X_test, y_test, verbose=0)"
   ]
  },
  {
   "cell_type": "code",
   "execution_count": null,
   "metadata": {},
   "outputs": [],
   "source": [
    "left = [1, 2]\n",
    "# heights of bars\n",
    "height = [score[1], score_unormal[1]]\n",
    "# labels for bars\n",
    "tick_label = ['Normalized Data', 'Unormalized Data']\n",
    "# plotting a bar chart\n",
    "plt.bar(left, height, tick_label = tick_label,\n",
    "        width = 0.8, color = ['tab:red', 'tab:blue'])\n",
    "# naming the x-axis\n",
    "plt.xlabel('Accuracy')\n",
    "# naming the y-axis\n",
    "plt.ylabel('Method')\n",
    "# plot title\n",
    "plt.title('Comparison of Accuracy')\n",
    "# function to show the plot\n",
    "plt.show()"
   ]
  }
 ],
 "metadata": {
  "interpreter": {
   "hash": "78c960279fecff9e244480132042affa22d495e3cfc64966045877e7ad2bb26d"
  },
  "kernelspec": {
   "display_name": "Python 3.8.8 ('base')",
   "language": "python",
   "name": "python3"
  },
  "language_info": {
   "codemirror_mode": {
    "name": "ipython",
    "version": 3
   },
   "file_extension": ".py",
   "mimetype": "text/x-python",
   "name": "python",
   "nbconvert_exporter": "python",
   "pygments_lexer": "ipython3",
   "version": "3.8.8"
  },
  "orig_nbformat": 4
 },
 "nbformat": 4,
 "nbformat_minor": 2
}
